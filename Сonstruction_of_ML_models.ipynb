{
  "nbformat": 4,
  "nbformat_minor": 0,
  "metadata": {
    "colab": {
      "provenance": [],
      "authorship_tag": "ABX9TyNOj31K0Z/fsyDj4S8EpbU2"
    },
    "kernelspec": {
      "name": "python3",
      "display_name": "Python 3"
    },
    "language_info": {
      "name": "python"
    },
    "widgets": {
      "application/vnd.jupyter.widget-state+json": {
        "7d174d7e82934dba936e2a9147ec8471": {
          "model_module": "@jupyter-widgets/controls",
          "model_name": "HBoxModel",
          "model_module_version": "1.5.0",
          "state": {
            "_dom_classes": [],
            "_model_module": "@jupyter-widgets/controls",
            "_model_module_version": "1.5.0",
            "_model_name": "HBoxModel",
            "_view_count": null,
            "_view_module": "@jupyter-widgets/controls",
            "_view_module_version": "1.5.0",
            "_view_name": "HBoxView",
            "box_style": "",
            "children": [
              "IPY_MODEL_521268132be343b7a2ddd9baaa6ee00b",
              "IPY_MODEL_94e26abb6a5e4433b1e6094bea69ef06",
              "IPY_MODEL_6653ee1b1f8e40ff8772b5e8671ed6d3"
            ],
            "layout": "IPY_MODEL_22839a53a1844b4dbd7aac12b20255ce"
          }
        },
        "521268132be343b7a2ddd9baaa6ee00b": {
          "model_module": "@jupyter-widgets/controls",
          "model_name": "HTMLModel",
          "model_module_version": "1.5.0",
          "state": {
            "_dom_classes": [],
            "_model_module": "@jupyter-widgets/controls",
            "_model_module_version": "1.5.0",
            "_model_name": "HTMLModel",
            "_view_count": null,
            "_view_module": "@jupyter-widgets/controls",
            "_view_module_version": "1.5.0",
            "_view_name": "HTMLView",
            "description": "",
            "description_tooltip": null,
            "layout": "IPY_MODEL_4661fec2ece2428fb0a776aa4f3b2157",
            "placeholder": "​",
            "style": "IPY_MODEL_8080fee5b3974ac3a5f618025d6185d5",
            "value": "100%"
          }
        },
        "94e26abb6a5e4433b1e6094bea69ef06": {
          "model_module": "@jupyter-widgets/controls",
          "model_name": "FloatProgressModel",
          "model_module_version": "1.5.0",
          "state": {
            "_dom_classes": [],
            "_model_module": "@jupyter-widgets/controls",
            "_model_module_version": "1.5.0",
            "_model_name": "FloatProgressModel",
            "_view_count": null,
            "_view_module": "@jupyter-widgets/controls",
            "_view_module_version": "1.5.0",
            "_view_name": "ProgressView",
            "bar_style": "success",
            "description": "",
            "description_tooltip": null,
            "layout": "IPY_MODEL_b8140eda54544cdeae73e254a1d3812a",
            "max": 268,
            "min": 0,
            "orientation": "horizontal",
            "style": "IPY_MODEL_bf9420958bd04d8bb11527aac265df9d",
            "value": 268
          }
        },
        "6653ee1b1f8e40ff8772b5e8671ed6d3": {
          "model_module": "@jupyter-widgets/controls",
          "model_name": "HTMLModel",
          "model_module_version": "1.5.0",
          "state": {
            "_dom_classes": [],
            "_model_module": "@jupyter-widgets/controls",
            "_model_module_version": "1.5.0",
            "_model_name": "HTMLModel",
            "_view_count": null,
            "_view_module": "@jupyter-widgets/controls",
            "_view_module_version": "1.5.0",
            "_view_name": "HTMLView",
            "description": "",
            "description_tooltip": null,
            "layout": "IPY_MODEL_3948f7b12ead44d99fd2d4b176fda0a2",
            "placeholder": "​",
            "style": "IPY_MODEL_b1b9778cebe84c64becc59a64d66bd31",
            "value": " 268/268 [13:28&lt;00:00,  2.94s/it]"
          }
        },
        "22839a53a1844b4dbd7aac12b20255ce": {
          "model_module": "@jupyter-widgets/base",
          "model_name": "LayoutModel",
          "model_module_version": "1.2.0",
          "state": {
            "_model_module": "@jupyter-widgets/base",
            "_model_module_version": "1.2.0",
            "_model_name": "LayoutModel",
            "_view_count": null,
            "_view_module": "@jupyter-widgets/base",
            "_view_module_version": "1.2.0",
            "_view_name": "LayoutView",
            "align_content": null,
            "align_items": null,
            "align_self": null,
            "border": null,
            "bottom": null,
            "display": null,
            "flex": null,
            "flex_flow": null,
            "grid_area": null,
            "grid_auto_columns": null,
            "grid_auto_flow": null,
            "grid_auto_rows": null,
            "grid_column": null,
            "grid_gap": null,
            "grid_row": null,
            "grid_template_areas": null,
            "grid_template_columns": null,
            "grid_template_rows": null,
            "height": null,
            "justify_content": null,
            "justify_items": null,
            "left": null,
            "margin": null,
            "max_height": null,
            "max_width": null,
            "min_height": null,
            "min_width": null,
            "object_fit": null,
            "object_position": null,
            "order": null,
            "overflow": null,
            "overflow_x": null,
            "overflow_y": null,
            "padding": null,
            "right": null,
            "top": null,
            "visibility": null,
            "width": null
          }
        },
        "4661fec2ece2428fb0a776aa4f3b2157": {
          "model_module": "@jupyter-widgets/base",
          "model_name": "LayoutModel",
          "model_module_version": "1.2.0",
          "state": {
            "_model_module": "@jupyter-widgets/base",
            "_model_module_version": "1.2.0",
            "_model_name": "LayoutModel",
            "_view_count": null,
            "_view_module": "@jupyter-widgets/base",
            "_view_module_version": "1.2.0",
            "_view_name": "LayoutView",
            "align_content": null,
            "align_items": null,
            "align_self": null,
            "border": null,
            "bottom": null,
            "display": null,
            "flex": null,
            "flex_flow": null,
            "grid_area": null,
            "grid_auto_columns": null,
            "grid_auto_flow": null,
            "grid_auto_rows": null,
            "grid_column": null,
            "grid_gap": null,
            "grid_row": null,
            "grid_template_areas": null,
            "grid_template_columns": null,
            "grid_template_rows": null,
            "height": null,
            "justify_content": null,
            "justify_items": null,
            "left": null,
            "margin": null,
            "max_height": null,
            "max_width": null,
            "min_height": null,
            "min_width": null,
            "object_fit": null,
            "object_position": null,
            "order": null,
            "overflow": null,
            "overflow_x": null,
            "overflow_y": null,
            "padding": null,
            "right": null,
            "top": null,
            "visibility": null,
            "width": null
          }
        },
        "8080fee5b3974ac3a5f618025d6185d5": {
          "model_module": "@jupyter-widgets/controls",
          "model_name": "DescriptionStyleModel",
          "model_module_version": "1.5.0",
          "state": {
            "_model_module": "@jupyter-widgets/controls",
            "_model_module_version": "1.5.0",
            "_model_name": "DescriptionStyleModel",
            "_view_count": null,
            "_view_module": "@jupyter-widgets/base",
            "_view_module_version": "1.2.0",
            "_view_name": "StyleView",
            "description_width": ""
          }
        },
        "b8140eda54544cdeae73e254a1d3812a": {
          "model_module": "@jupyter-widgets/base",
          "model_name": "LayoutModel",
          "model_module_version": "1.2.0",
          "state": {
            "_model_module": "@jupyter-widgets/base",
            "_model_module_version": "1.2.0",
            "_model_name": "LayoutModel",
            "_view_count": null,
            "_view_module": "@jupyter-widgets/base",
            "_view_module_version": "1.2.0",
            "_view_name": "LayoutView",
            "align_content": null,
            "align_items": null,
            "align_self": null,
            "border": null,
            "bottom": null,
            "display": null,
            "flex": null,
            "flex_flow": null,
            "grid_area": null,
            "grid_auto_columns": null,
            "grid_auto_flow": null,
            "grid_auto_rows": null,
            "grid_column": null,
            "grid_gap": null,
            "grid_row": null,
            "grid_template_areas": null,
            "grid_template_columns": null,
            "grid_template_rows": null,
            "height": null,
            "justify_content": null,
            "justify_items": null,
            "left": null,
            "margin": null,
            "max_height": null,
            "max_width": null,
            "min_height": null,
            "min_width": null,
            "object_fit": null,
            "object_position": null,
            "order": null,
            "overflow": null,
            "overflow_x": null,
            "overflow_y": null,
            "padding": null,
            "right": null,
            "top": null,
            "visibility": null,
            "width": null
          }
        },
        "bf9420958bd04d8bb11527aac265df9d": {
          "model_module": "@jupyter-widgets/controls",
          "model_name": "ProgressStyleModel",
          "model_module_version": "1.5.0",
          "state": {
            "_model_module": "@jupyter-widgets/controls",
            "_model_module_version": "1.5.0",
            "_model_name": "ProgressStyleModel",
            "_view_count": null,
            "_view_module": "@jupyter-widgets/base",
            "_view_module_version": "1.2.0",
            "_view_name": "StyleView",
            "bar_color": null,
            "description_width": ""
          }
        },
        "3948f7b12ead44d99fd2d4b176fda0a2": {
          "model_module": "@jupyter-widgets/base",
          "model_name": "LayoutModel",
          "model_module_version": "1.2.0",
          "state": {
            "_model_module": "@jupyter-widgets/base",
            "_model_module_version": "1.2.0",
            "_model_name": "LayoutModel",
            "_view_count": null,
            "_view_module": "@jupyter-widgets/base",
            "_view_module_version": "1.2.0",
            "_view_name": "LayoutView",
            "align_content": null,
            "align_items": null,
            "align_self": null,
            "border": null,
            "bottom": null,
            "display": null,
            "flex": null,
            "flex_flow": null,
            "grid_area": null,
            "grid_auto_columns": null,
            "grid_auto_flow": null,
            "grid_auto_rows": null,
            "grid_column": null,
            "grid_gap": null,
            "grid_row": null,
            "grid_template_areas": null,
            "grid_template_columns": null,
            "grid_template_rows": null,
            "height": null,
            "justify_content": null,
            "justify_items": null,
            "left": null,
            "margin": null,
            "max_height": null,
            "max_width": null,
            "min_height": null,
            "min_width": null,
            "object_fit": null,
            "object_position": null,
            "order": null,
            "overflow": null,
            "overflow_x": null,
            "overflow_y": null,
            "padding": null,
            "right": null,
            "top": null,
            "visibility": null,
            "width": null
          }
        },
        "b1b9778cebe84c64becc59a64d66bd31": {
          "model_module": "@jupyter-widgets/controls",
          "model_name": "DescriptionStyleModel",
          "model_module_version": "1.5.0",
          "state": {
            "_model_module": "@jupyter-widgets/controls",
            "_model_module_version": "1.5.0",
            "_model_name": "DescriptionStyleModel",
            "_view_count": null,
            "_view_module": "@jupyter-widgets/base",
            "_view_module_version": "1.2.0",
            "_view_name": "StyleView",
            "description_width": ""
          }
        }
      }
    }
  },
  "cells": [
    {
      "cell_type": "markdown",
      "source": [
        "# 1. Загрузка данных и импорт библиотек"
      ],
      "metadata": {
        "id": "s0Okk2YA4iq7"
      }
    },
    {
      "cell_type": "code",
      "execution_count": 1,
      "metadata": {
        "id": "lIurKZGs4L8o"
      },
      "outputs": [],
      "source": [
        "import numpy as np\n",
        "import pandas as pd\n",
        "import matplotlib.pyplot as plt\n",
        "import seaborn as sns\n",
        "from sklearn.model_selection import train_test_split\n",
        "from sklearn.linear_model import LinearRegression\n",
        "from sklearn.naive_bayes import GaussianNB\n",
        "from sklearn.neighbors import KNeighborsClassifier\n",
        "from sklearn.linear_model import LogisticRegression\n",
        "from sklearn.metrics import accuracy_score\n",
        "from sklearn.metrics import f1_score\n",
        "from sklearn.metrics import confusion_matrix\n",
        "from sklearn.compose import ColumnTransformer\n",
        "from sklearn.preprocessing import OneHotEncoder, MinMaxScaler\n",
        "from sklearn.model_selection import GridSearchCV\n",
        "from sklearn.pipeline import Pipeline"
      ]
    },
    {
      "cell_type": "markdown",
      "source": [
        "С помощью google drive импортируем данные"
      ],
      "metadata": {
        "id": "lTQMtDle47Fd"
      }
    },
    {
      "cell_type": "code",
      "source": [
        "from google.colab import drive\n",
        "drive.mount('/content/drive')\n",
        "\n",
        "import os\n",
        "project_path = \"/content/drive/MyDrive/Medical-Cost-Personal/insurance.csv\"\n",
        "df = pd.read_csv(project_path)\n",
        "df"
      ],
      "metadata": {
        "colab": {
          "base_uri": "https://localhost:8080/",
          "height": 0
        },
        "collapsed": true,
        "id": "oDA5aDoX4rDS",
        "outputId": "97b8c279-e8e2-40e2-c23a-a39f0653d761"
      },
      "execution_count": 2,
      "outputs": [
        {
          "output_type": "stream",
          "name": "stdout",
          "text": [
            "Drive already mounted at /content/drive; to attempt to forcibly remount, call drive.mount(\"/content/drive\", force_remount=True).\n"
          ]
        },
        {
          "output_type": "execute_result",
          "data": {
            "text/plain": [
              "      age     sex     bmi  children smoker     region      charges\n",
              "0      19  female  27.900         0    yes  southwest  16884.92400\n",
              "1      18    male  33.770         1     no  southeast   1725.55230\n",
              "2      28    male  33.000         3     no  southeast   4449.46200\n",
              "3      33    male  22.705         0     no  northwest  21984.47061\n",
              "4      32    male  28.880         0     no  northwest   3866.85520\n",
              "...   ...     ...     ...       ...    ...        ...          ...\n",
              "1333   50    male  30.970         3     no  northwest  10600.54830\n",
              "1334   18  female  31.920         0     no  northeast   2205.98080\n",
              "1335   18  female  36.850         0     no  southeast   1629.83350\n",
              "1336   21  female  25.800         0     no  southwest   2007.94500\n",
              "1337   61  female  29.070         0    yes  northwest  29141.36030\n",
              "\n",
              "[1338 rows x 7 columns]"
            ],
            "text/html": [
              "\n",
              "  <div id=\"df-55c03a1d-9879-4091-8076-be113a592404\" class=\"colab-df-container\">\n",
              "    <div>\n",
              "<style scoped>\n",
              "    .dataframe tbody tr th:only-of-type {\n",
              "        vertical-align: middle;\n",
              "    }\n",
              "\n",
              "    .dataframe tbody tr th {\n",
              "        vertical-align: top;\n",
              "    }\n",
              "\n",
              "    .dataframe thead th {\n",
              "        text-align: right;\n",
              "    }\n",
              "</style>\n",
              "<table border=\"1\" class=\"dataframe\">\n",
              "  <thead>\n",
              "    <tr style=\"text-align: right;\">\n",
              "      <th></th>\n",
              "      <th>age</th>\n",
              "      <th>sex</th>\n",
              "      <th>bmi</th>\n",
              "      <th>children</th>\n",
              "      <th>smoker</th>\n",
              "      <th>region</th>\n",
              "      <th>charges</th>\n",
              "    </tr>\n",
              "  </thead>\n",
              "  <tbody>\n",
              "    <tr>\n",
              "      <th>0</th>\n",
              "      <td>19</td>\n",
              "      <td>female</td>\n",
              "      <td>27.900</td>\n",
              "      <td>0</td>\n",
              "      <td>yes</td>\n",
              "      <td>southwest</td>\n",
              "      <td>16884.92400</td>\n",
              "    </tr>\n",
              "    <tr>\n",
              "      <th>1</th>\n",
              "      <td>18</td>\n",
              "      <td>male</td>\n",
              "      <td>33.770</td>\n",
              "      <td>1</td>\n",
              "      <td>no</td>\n",
              "      <td>southeast</td>\n",
              "      <td>1725.55230</td>\n",
              "    </tr>\n",
              "    <tr>\n",
              "      <th>2</th>\n",
              "      <td>28</td>\n",
              "      <td>male</td>\n",
              "      <td>33.000</td>\n",
              "      <td>3</td>\n",
              "      <td>no</td>\n",
              "      <td>southeast</td>\n",
              "      <td>4449.46200</td>\n",
              "    </tr>\n",
              "    <tr>\n",
              "      <th>3</th>\n",
              "      <td>33</td>\n",
              "      <td>male</td>\n",
              "      <td>22.705</td>\n",
              "      <td>0</td>\n",
              "      <td>no</td>\n",
              "      <td>northwest</td>\n",
              "      <td>21984.47061</td>\n",
              "    </tr>\n",
              "    <tr>\n",
              "      <th>4</th>\n",
              "      <td>32</td>\n",
              "      <td>male</td>\n",
              "      <td>28.880</td>\n",
              "      <td>0</td>\n",
              "      <td>no</td>\n",
              "      <td>northwest</td>\n",
              "      <td>3866.85520</td>\n",
              "    </tr>\n",
              "    <tr>\n",
              "      <th>...</th>\n",
              "      <td>...</td>\n",
              "      <td>...</td>\n",
              "      <td>...</td>\n",
              "      <td>...</td>\n",
              "      <td>...</td>\n",
              "      <td>...</td>\n",
              "      <td>...</td>\n",
              "    </tr>\n",
              "    <tr>\n",
              "      <th>1333</th>\n",
              "      <td>50</td>\n",
              "      <td>male</td>\n",
              "      <td>30.970</td>\n",
              "      <td>3</td>\n",
              "      <td>no</td>\n",
              "      <td>northwest</td>\n",
              "      <td>10600.54830</td>\n",
              "    </tr>\n",
              "    <tr>\n",
              "      <th>1334</th>\n",
              "      <td>18</td>\n",
              "      <td>female</td>\n",
              "      <td>31.920</td>\n",
              "      <td>0</td>\n",
              "      <td>no</td>\n",
              "      <td>northeast</td>\n",
              "      <td>2205.98080</td>\n",
              "    </tr>\n",
              "    <tr>\n",
              "      <th>1335</th>\n",
              "      <td>18</td>\n",
              "      <td>female</td>\n",
              "      <td>36.850</td>\n",
              "      <td>0</td>\n",
              "      <td>no</td>\n",
              "      <td>southeast</td>\n",
              "      <td>1629.83350</td>\n",
              "    </tr>\n",
              "    <tr>\n",
              "      <th>1336</th>\n",
              "      <td>21</td>\n",
              "      <td>female</td>\n",
              "      <td>25.800</td>\n",
              "      <td>0</td>\n",
              "      <td>no</td>\n",
              "      <td>southwest</td>\n",
              "      <td>2007.94500</td>\n",
              "    </tr>\n",
              "    <tr>\n",
              "      <th>1337</th>\n",
              "      <td>61</td>\n",
              "      <td>female</td>\n",
              "      <td>29.070</td>\n",
              "      <td>0</td>\n",
              "      <td>yes</td>\n",
              "      <td>northwest</td>\n",
              "      <td>29141.36030</td>\n",
              "    </tr>\n",
              "  </tbody>\n",
              "</table>\n",
              "<p>1338 rows × 7 columns</p>\n",
              "</div>\n",
              "    <div class=\"colab-df-buttons\">\n",
              "\n",
              "  <div class=\"colab-df-container\">\n",
              "    <button class=\"colab-df-convert\" onclick=\"convertToInteractive('df-55c03a1d-9879-4091-8076-be113a592404')\"\n",
              "            title=\"Convert this dataframe to an interactive table.\"\n",
              "            style=\"display:none;\">\n",
              "\n",
              "  <svg xmlns=\"http://www.w3.org/2000/svg\" height=\"24px\" viewBox=\"0 -960 960 960\">\n",
              "    <path d=\"M120-120v-720h720v720H120Zm60-500h600v-160H180v160Zm220 220h160v-160H400v160Zm0 220h160v-160H400v160ZM180-400h160v-160H180v160Zm440 0h160v-160H620v160ZM180-180h160v-160H180v160Zm440 0h160v-160H620v160Z\"/>\n",
              "  </svg>\n",
              "    </button>\n",
              "\n",
              "  <style>\n",
              "    .colab-df-container {\n",
              "      display:flex;\n",
              "      gap: 12px;\n",
              "    }\n",
              "\n",
              "    .colab-df-convert {\n",
              "      background-color: #E8F0FE;\n",
              "      border: none;\n",
              "      border-radius: 50%;\n",
              "      cursor: pointer;\n",
              "      display: none;\n",
              "      fill: #1967D2;\n",
              "      height: 32px;\n",
              "      padding: 0 0 0 0;\n",
              "      width: 32px;\n",
              "    }\n",
              "\n",
              "    .colab-df-convert:hover {\n",
              "      background-color: #E2EBFA;\n",
              "      box-shadow: 0px 1px 2px rgba(60, 64, 67, 0.3), 0px 1px 3px 1px rgba(60, 64, 67, 0.15);\n",
              "      fill: #174EA6;\n",
              "    }\n",
              "\n",
              "    .colab-df-buttons div {\n",
              "      margin-bottom: 4px;\n",
              "    }\n",
              "\n",
              "    [theme=dark] .colab-df-convert {\n",
              "      background-color: #3B4455;\n",
              "      fill: #D2E3FC;\n",
              "    }\n",
              "\n",
              "    [theme=dark] .colab-df-convert:hover {\n",
              "      background-color: #434B5C;\n",
              "      box-shadow: 0px 1px 3px 1px rgba(0, 0, 0, 0.15);\n",
              "      filter: drop-shadow(0px 1px 2px rgba(0, 0, 0, 0.3));\n",
              "      fill: #FFFFFF;\n",
              "    }\n",
              "  </style>\n",
              "\n",
              "    <script>\n",
              "      const buttonEl =\n",
              "        document.querySelector('#df-55c03a1d-9879-4091-8076-be113a592404 button.colab-df-convert');\n",
              "      buttonEl.style.display =\n",
              "        google.colab.kernel.accessAllowed ? 'block' : 'none';\n",
              "\n",
              "      async function convertToInteractive(key) {\n",
              "        const element = document.querySelector('#df-55c03a1d-9879-4091-8076-be113a592404');\n",
              "        const dataTable =\n",
              "          await google.colab.kernel.invokeFunction('convertToInteractive',\n",
              "                                                    [key], {});\n",
              "        if (!dataTable) return;\n",
              "\n",
              "        const docLinkHtml = 'Like what you see? Visit the ' +\n",
              "          '<a target=\"_blank\" href=https://colab.research.google.com/notebooks/data_table.ipynb>data table notebook</a>'\n",
              "          + ' to learn more about interactive tables.';\n",
              "        element.innerHTML = '';\n",
              "        dataTable['output_type'] = 'display_data';\n",
              "        await google.colab.output.renderOutput(dataTable, element);\n",
              "        const docLink = document.createElement('div');\n",
              "        docLink.innerHTML = docLinkHtml;\n",
              "        element.appendChild(docLink);\n",
              "      }\n",
              "    </script>\n",
              "  </div>\n",
              "\n",
              "\n",
              "<div id=\"df-e77eac4b-79ad-406b-880b-57dbacfd1f80\">\n",
              "  <button class=\"colab-df-quickchart\" onclick=\"quickchart('df-e77eac4b-79ad-406b-880b-57dbacfd1f80')\"\n",
              "            title=\"Suggest charts\"\n",
              "            style=\"display:none;\">\n",
              "\n",
              "<svg xmlns=\"http://www.w3.org/2000/svg\" height=\"24px\"viewBox=\"0 0 24 24\"\n",
              "     width=\"24px\">\n",
              "    <g>\n",
              "        <path d=\"M19 3H5c-1.1 0-2 .9-2 2v14c0 1.1.9 2 2 2h14c1.1 0 2-.9 2-2V5c0-1.1-.9-2-2-2zM9 17H7v-7h2v7zm4 0h-2V7h2v10zm4 0h-2v-4h2v4z\"/>\n",
              "    </g>\n",
              "</svg>\n",
              "  </button>\n",
              "\n",
              "<style>\n",
              "  .colab-df-quickchart {\n",
              "      --bg-color: #E8F0FE;\n",
              "      --fill-color: #1967D2;\n",
              "      --hover-bg-color: #E2EBFA;\n",
              "      --hover-fill-color: #174EA6;\n",
              "      --disabled-fill-color: #AAA;\n",
              "      --disabled-bg-color: #DDD;\n",
              "  }\n",
              "\n",
              "  [theme=dark] .colab-df-quickchart {\n",
              "      --bg-color: #3B4455;\n",
              "      --fill-color: #D2E3FC;\n",
              "      --hover-bg-color: #434B5C;\n",
              "      --hover-fill-color: #FFFFFF;\n",
              "      --disabled-bg-color: #3B4455;\n",
              "      --disabled-fill-color: #666;\n",
              "  }\n",
              "\n",
              "  .colab-df-quickchart {\n",
              "    background-color: var(--bg-color);\n",
              "    border: none;\n",
              "    border-radius: 50%;\n",
              "    cursor: pointer;\n",
              "    display: none;\n",
              "    fill: var(--fill-color);\n",
              "    height: 32px;\n",
              "    padding: 0;\n",
              "    width: 32px;\n",
              "  }\n",
              "\n",
              "  .colab-df-quickchart:hover {\n",
              "    background-color: var(--hover-bg-color);\n",
              "    box-shadow: 0 1px 2px rgba(60, 64, 67, 0.3), 0 1px 3px 1px rgba(60, 64, 67, 0.15);\n",
              "    fill: var(--button-hover-fill-color);\n",
              "  }\n",
              "\n",
              "  .colab-df-quickchart-complete:disabled,\n",
              "  .colab-df-quickchart-complete:disabled:hover {\n",
              "    background-color: var(--disabled-bg-color);\n",
              "    fill: var(--disabled-fill-color);\n",
              "    box-shadow: none;\n",
              "  }\n",
              "\n",
              "  .colab-df-spinner {\n",
              "    border: 2px solid var(--fill-color);\n",
              "    border-color: transparent;\n",
              "    border-bottom-color: var(--fill-color);\n",
              "    animation:\n",
              "      spin 1s steps(1) infinite;\n",
              "  }\n",
              "\n",
              "  @keyframes spin {\n",
              "    0% {\n",
              "      border-color: transparent;\n",
              "      border-bottom-color: var(--fill-color);\n",
              "      border-left-color: var(--fill-color);\n",
              "    }\n",
              "    20% {\n",
              "      border-color: transparent;\n",
              "      border-left-color: var(--fill-color);\n",
              "      border-top-color: var(--fill-color);\n",
              "    }\n",
              "    30% {\n",
              "      border-color: transparent;\n",
              "      border-left-color: var(--fill-color);\n",
              "      border-top-color: var(--fill-color);\n",
              "      border-right-color: var(--fill-color);\n",
              "    }\n",
              "    40% {\n",
              "      border-color: transparent;\n",
              "      border-right-color: var(--fill-color);\n",
              "      border-top-color: var(--fill-color);\n",
              "    }\n",
              "    60% {\n",
              "      border-color: transparent;\n",
              "      border-right-color: var(--fill-color);\n",
              "    }\n",
              "    80% {\n",
              "      border-color: transparent;\n",
              "      border-right-color: var(--fill-color);\n",
              "      border-bottom-color: var(--fill-color);\n",
              "    }\n",
              "    90% {\n",
              "      border-color: transparent;\n",
              "      border-bottom-color: var(--fill-color);\n",
              "    }\n",
              "  }\n",
              "</style>\n",
              "\n",
              "  <script>\n",
              "    async function quickchart(key) {\n",
              "      const quickchartButtonEl =\n",
              "        document.querySelector('#' + key + ' button');\n",
              "      quickchartButtonEl.disabled = true;  // To prevent multiple clicks.\n",
              "      quickchartButtonEl.classList.add('colab-df-spinner');\n",
              "      try {\n",
              "        const charts = await google.colab.kernel.invokeFunction(\n",
              "            'suggestCharts', [key], {});\n",
              "      } catch (error) {\n",
              "        console.error('Error during call to suggestCharts:', error);\n",
              "      }\n",
              "      quickchartButtonEl.classList.remove('colab-df-spinner');\n",
              "      quickchartButtonEl.classList.add('colab-df-quickchart-complete');\n",
              "    }\n",
              "    (() => {\n",
              "      let quickchartButtonEl =\n",
              "        document.querySelector('#df-e77eac4b-79ad-406b-880b-57dbacfd1f80 button');\n",
              "      quickchartButtonEl.style.display =\n",
              "        google.colab.kernel.accessAllowed ? 'block' : 'none';\n",
              "    })();\n",
              "  </script>\n",
              "</div>\n",
              "    </div>\n",
              "  </div>\n"
            ],
            "application/vnd.google.colaboratory.intrinsic+json": {
              "type": "dataframe",
              "variable_name": "df",
              "summary": "{\n  \"name\": \"df\",\n  \"rows\": 1338,\n  \"fields\": [\n    {\n      \"column\": \"age\",\n      \"properties\": {\n        \"dtype\": \"number\",\n        \"std\": 14,\n        \"min\": 18,\n        \"max\": 64,\n        \"num_unique_values\": 47,\n        \"samples\": [\n          21,\n          45,\n          36\n        ],\n        \"semantic_type\": \"\",\n        \"description\": \"\"\n      }\n    },\n    {\n      \"column\": \"sex\",\n      \"properties\": {\n        \"dtype\": \"category\",\n        \"num_unique_values\": 2,\n        \"samples\": [\n          \"male\",\n          \"female\"\n        ],\n        \"semantic_type\": \"\",\n        \"description\": \"\"\n      }\n    },\n    {\n      \"column\": \"bmi\",\n      \"properties\": {\n        \"dtype\": \"number\",\n        \"std\": 6.098186911679014,\n        \"min\": 15.96,\n        \"max\": 53.13,\n        \"num_unique_values\": 548,\n        \"samples\": [\n          23.18,\n          26.885\n        ],\n        \"semantic_type\": \"\",\n        \"description\": \"\"\n      }\n    },\n    {\n      \"column\": \"children\",\n      \"properties\": {\n        \"dtype\": \"number\",\n        \"std\": 1,\n        \"min\": 0,\n        \"max\": 5,\n        \"num_unique_values\": 6,\n        \"samples\": [\n          0,\n          1\n        ],\n        \"semantic_type\": \"\",\n        \"description\": \"\"\n      }\n    },\n    {\n      \"column\": \"smoker\",\n      \"properties\": {\n        \"dtype\": \"category\",\n        \"num_unique_values\": 2,\n        \"samples\": [\n          \"no\",\n          \"yes\"\n        ],\n        \"semantic_type\": \"\",\n        \"description\": \"\"\n      }\n    },\n    {\n      \"column\": \"region\",\n      \"properties\": {\n        \"dtype\": \"category\",\n        \"num_unique_values\": 4,\n        \"samples\": [\n          \"southeast\",\n          \"northeast\"\n        ],\n        \"semantic_type\": \"\",\n        \"description\": \"\"\n      }\n    },\n    {\n      \"column\": \"charges\",\n      \"properties\": {\n        \"dtype\": \"number\",\n        \"std\": 12110.011236694001,\n        \"min\": 1121.8739,\n        \"max\": 63770.42801,\n        \"num_unique_values\": 1337,\n        \"samples\": [\n          8688.85885,\n          5708.867\n        ],\n        \"semantic_type\": \"\",\n        \"description\": \"\"\n      }\n    }\n  ]\n}"
            }
          },
          "metadata": {},
          "execution_count": 2
        }
      ]
    },
    {
      "cell_type": "markdown",
      "source": [
        "# 2. Подготовка датасета"
      ],
      "metadata": {
        "id": "78lYcpck5C2I"
      }
    },
    {
      "cell_type": "markdown",
      "source": [
        "age: возраст основного выгодоприобретателя\n",
        "\n",
        "sex: пол страхового агента, женщина, мужчина\n",
        "\n",
        "bmi: индекс массы тела, обеспечивающий понимание тела, веса, который является относительно высоким или низким по отношению к росту, объективный показатель массы тела (кг/м^2), использующий отношение роста к весу, в идеале от 18,5 до 24,9\n",
        "\n",
        "children: Количество детей, охваченных медицинским страхованием / Количество иждивенцев\n",
        "\n",
        "smoker: Курение\n",
        "\n",
        "region: район проживания бенефициара в США, северо-восток, юго-восток, юго-запад, северо-запад.\n",
        "\n",
        "charges: Индивидуальные медицинские расходы, выставленные медицинским страхованием.\n",
        "\n"
      ],
      "metadata": {
        "id": "_EU5Xx9J5KC4"
      }
    },
    {
      "cell_type": "code",
      "source": [
        "df.shape"
      ],
      "metadata": {
        "colab": {
          "base_uri": "https://localhost:8080/"
        },
        "id": "hfpvkttc6Iy8",
        "outputId": "665ff51c-760a-4641-9f98-d32d638db7bd"
      },
      "execution_count": 3,
      "outputs": [
        {
          "output_type": "execute_result",
          "data": {
            "text/plain": [
              "(1338, 7)"
            ]
          },
          "metadata": {},
          "execution_count": 3
        }
      ]
    },
    {
      "cell_type": "markdown",
      "source": [
        "Проверим данные на дупликаты"
      ],
      "metadata": {
        "id": "8fr8zoo06P9H"
      }
    },
    {
      "cell_type": "code",
      "source": [
        "df.drop_duplicates(inplace=True)"
      ],
      "metadata": {
        "id": "3ITls-7E6MuX"
      },
      "execution_count": 4,
      "outputs": []
    },
    {
      "cell_type": "markdown",
      "source": [
        "После проверки мы видим что одна пара данных была одинаковой"
      ],
      "metadata": {
        "id": "c_CBaIJJ6WX1"
      }
    },
    {
      "cell_type": "code",
      "source": [
        "df.shape"
      ],
      "metadata": {
        "colab": {
          "base_uri": "https://localhost:8080/"
        },
        "id": "aCZ8bibd6OUT",
        "outputId": "9c6718a5-4811-44d4-eb66-18996f6685ce"
      },
      "execution_count": 5,
      "outputs": [
        {
          "output_type": "execute_result",
          "data": {
            "text/plain": [
              "(1337, 7)"
            ]
          },
          "metadata": {},
          "execution_count": 5
        }
      ]
    },
    {
      "cell_type": "markdown",
      "source": [
        "У нас нет пропусков, 4 некатегориальных признака, 3 категориальных"
      ],
      "metadata": {
        "id": "NnR0vzvz6YDS"
      }
    },
    {
      "cell_type": "code",
      "source": [
        "df.info()"
      ],
      "metadata": {
        "colab": {
          "base_uri": "https://localhost:8080/"
        },
        "id": "U8pXC_pJ6Zqw",
        "outputId": "b6d72d11-da6a-43a4-b7e5-37080825b4b5"
      },
      "execution_count": 6,
      "outputs": [
        {
          "output_type": "stream",
          "name": "stdout",
          "text": [
            "<class 'pandas.core.frame.DataFrame'>\n",
            "Index: 1337 entries, 0 to 1337\n",
            "Data columns (total 7 columns):\n",
            " #   Column    Non-Null Count  Dtype  \n",
            "---  ------    --------------  -----  \n",
            " 0   age       1337 non-null   int64  \n",
            " 1   sex       1337 non-null   object \n",
            " 2   bmi       1337 non-null   float64\n",
            " 3   children  1337 non-null   int64  \n",
            " 4   smoker    1337 non-null   object \n",
            " 5   region    1337 non-null   object \n",
            " 6   charges   1337 non-null   float64\n",
            "dtypes: float64(2), int64(2), object(3)\n",
            "memory usage: 83.6+ KB\n"
          ]
        }
      ]
    },
    {
      "cell_type": "code",
      "source": [
        "df.head()"
      ],
      "metadata": {
        "id": "UCe4hgFW6gnv",
        "outputId": "79697e4a-8df6-4ef7-93db-537ff266778a",
        "colab": {
          "base_uri": "https://localhost:8080/",
          "height": 0
        }
      },
      "execution_count": 7,
      "outputs": [
        {
          "output_type": "execute_result",
          "data": {
            "text/plain": [
              "   age     sex     bmi  children smoker     region      charges\n",
              "0   19  female  27.900         0    yes  southwest  16884.92400\n",
              "1   18    male  33.770         1     no  southeast   1725.55230\n",
              "2   28    male  33.000         3     no  southeast   4449.46200\n",
              "3   33    male  22.705         0     no  northwest  21984.47061\n",
              "4   32    male  28.880         0     no  northwest   3866.85520"
            ],
            "text/html": [
              "\n",
              "  <div id=\"df-ec262a51-36be-4cb3-8290-2c676fce383d\" class=\"colab-df-container\">\n",
              "    <div>\n",
              "<style scoped>\n",
              "    .dataframe tbody tr th:only-of-type {\n",
              "        vertical-align: middle;\n",
              "    }\n",
              "\n",
              "    .dataframe tbody tr th {\n",
              "        vertical-align: top;\n",
              "    }\n",
              "\n",
              "    .dataframe thead th {\n",
              "        text-align: right;\n",
              "    }\n",
              "</style>\n",
              "<table border=\"1\" class=\"dataframe\">\n",
              "  <thead>\n",
              "    <tr style=\"text-align: right;\">\n",
              "      <th></th>\n",
              "      <th>age</th>\n",
              "      <th>sex</th>\n",
              "      <th>bmi</th>\n",
              "      <th>children</th>\n",
              "      <th>smoker</th>\n",
              "      <th>region</th>\n",
              "      <th>charges</th>\n",
              "    </tr>\n",
              "  </thead>\n",
              "  <tbody>\n",
              "    <tr>\n",
              "      <th>0</th>\n",
              "      <td>19</td>\n",
              "      <td>female</td>\n",
              "      <td>27.900</td>\n",
              "      <td>0</td>\n",
              "      <td>yes</td>\n",
              "      <td>southwest</td>\n",
              "      <td>16884.92400</td>\n",
              "    </tr>\n",
              "    <tr>\n",
              "      <th>1</th>\n",
              "      <td>18</td>\n",
              "      <td>male</td>\n",
              "      <td>33.770</td>\n",
              "      <td>1</td>\n",
              "      <td>no</td>\n",
              "      <td>southeast</td>\n",
              "      <td>1725.55230</td>\n",
              "    </tr>\n",
              "    <tr>\n",
              "      <th>2</th>\n",
              "      <td>28</td>\n",
              "      <td>male</td>\n",
              "      <td>33.000</td>\n",
              "      <td>3</td>\n",
              "      <td>no</td>\n",
              "      <td>southeast</td>\n",
              "      <td>4449.46200</td>\n",
              "    </tr>\n",
              "    <tr>\n",
              "      <th>3</th>\n",
              "      <td>33</td>\n",
              "      <td>male</td>\n",
              "      <td>22.705</td>\n",
              "      <td>0</td>\n",
              "      <td>no</td>\n",
              "      <td>northwest</td>\n",
              "      <td>21984.47061</td>\n",
              "    </tr>\n",
              "    <tr>\n",
              "      <th>4</th>\n",
              "      <td>32</td>\n",
              "      <td>male</td>\n",
              "      <td>28.880</td>\n",
              "      <td>0</td>\n",
              "      <td>no</td>\n",
              "      <td>northwest</td>\n",
              "      <td>3866.85520</td>\n",
              "    </tr>\n",
              "  </tbody>\n",
              "</table>\n",
              "</div>\n",
              "    <div class=\"colab-df-buttons\">\n",
              "\n",
              "  <div class=\"colab-df-container\">\n",
              "    <button class=\"colab-df-convert\" onclick=\"convertToInteractive('df-ec262a51-36be-4cb3-8290-2c676fce383d')\"\n",
              "            title=\"Convert this dataframe to an interactive table.\"\n",
              "            style=\"display:none;\">\n",
              "\n",
              "  <svg xmlns=\"http://www.w3.org/2000/svg\" height=\"24px\" viewBox=\"0 -960 960 960\">\n",
              "    <path d=\"M120-120v-720h720v720H120Zm60-500h600v-160H180v160Zm220 220h160v-160H400v160Zm0 220h160v-160H400v160ZM180-400h160v-160H180v160Zm440 0h160v-160H620v160ZM180-180h160v-160H180v160Zm440 0h160v-160H620v160Z\"/>\n",
              "  </svg>\n",
              "    </button>\n",
              "\n",
              "  <style>\n",
              "    .colab-df-container {\n",
              "      display:flex;\n",
              "      gap: 12px;\n",
              "    }\n",
              "\n",
              "    .colab-df-convert {\n",
              "      background-color: #E8F0FE;\n",
              "      border: none;\n",
              "      border-radius: 50%;\n",
              "      cursor: pointer;\n",
              "      display: none;\n",
              "      fill: #1967D2;\n",
              "      height: 32px;\n",
              "      padding: 0 0 0 0;\n",
              "      width: 32px;\n",
              "    }\n",
              "\n",
              "    .colab-df-convert:hover {\n",
              "      background-color: #E2EBFA;\n",
              "      box-shadow: 0px 1px 2px rgba(60, 64, 67, 0.3), 0px 1px 3px 1px rgba(60, 64, 67, 0.15);\n",
              "      fill: #174EA6;\n",
              "    }\n",
              "\n",
              "    .colab-df-buttons div {\n",
              "      margin-bottom: 4px;\n",
              "    }\n",
              "\n",
              "    [theme=dark] .colab-df-convert {\n",
              "      background-color: #3B4455;\n",
              "      fill: #D2E3FC;\n",
              "    }\n",
              "\n",
              "    [theme=dark] .colab-df-convert:hover {\n",
              "      background-color: #434B5C;\n",
              "      box-shadow: 0px 1px 3px 1px rgba(0, 0, 0, 0.15);\n",
              "      filter: drop-shadow(0px 1px 2px rgba(0, 0, 0, 0.3));\n",
              "      fill: #FFFFFF;\n",
              "    }\n",
              "  </style>\n",
              "\n",
              "    <script>\n",
              "      const buttonEl =\n",
              "        document.querySelector('#df-ec262a51-36be-4cb3-8290-2c676fce383d button.colab-df-convert');\n",
              "      buttonEl.style.display =\n",
              "        google.colab.kernel.accessAllowed ? 'block' : 'none';\n",
              "\n",
              "      async function convertToInteractive(key) {\n",
              "        const element = document.querySelector('#df-ec262a51-36be-4cb3-8290-2c676fce383d');\n",
              "        const dataTable =\n",
              "          await google.colab.kernel.invokeFunction('convertToInteractive',\n",
              "                                                    [key], {});\n",
              "        if (!dataTable) return;\n",
              "\n",
              "        const docLinkHtml = 'Like what you see? Visit the ' +\n",
              "          '<a target=\"_blank\" href=https://colab.research.google.com/notebooks/data_table.ipynb>data table notebook</a>'\n",
              "          + ' to learn more about interactive tables.';\n",
              "        element.innerHTML = '';\n",
              "        dataTable['output_type'] = 'display_data';\n",
              "        await google.colab.output.renderOutput(dataTable, element);\n",
              "        const docLink = document.createElement('div');\n",
              "        docLink.innerHTML = docLinkHtml;\n",
              "        element.appendChild(docLink);\n",
              "      }\n",
              "    </script>\n",
              "  </div>\n",
              "\n",
              "\n",
              "<div id=\"df-f300a7ea-ee1d-481f-9181-848cb0448053\">\n",
              "  <button class=\"colab-df-quickchart\" onclick=\"quickchart('df-f300a7ea-ee1d-481f-9181-848cb0448053')\"\n",
              "            title=\"Suggest charts\"\n",
              "            style=\"display:none;\">\n",
              "\n",
              "<svg xmlns=\"http://www.w3.org/2000/svg\" height=\"24px\"viewBox=\"0 0 24 24\"\n",
              "     width=\"24px\">\n",
              "    <g>\n",
              "        <path d=\"M19 3H5c-1.1 0-2 .9-2 2v14c0 1.1.9 2 2 2h14c1.1 0 2-.9 2-2V5c0-1.1-.9-2-2-2zM9 17H7v-7h2v7zm4 0h-2V7h2v10zm4 0h-2v-4h2v4z\"/>\n",
              "    </g>\n",
              "</svg>\n",
              "  </button>\n",
              "\n",
              "<style>\n",
              "  .colab-df-quickchart {\n",
              "      --bg-color: #E8F0FE;\n",
              "      --fill-color: #1967D2;\n",
              "      --hover-bg-color: #E2EBFA;\n",
              "      --hover-fill-color: #174EA6;\n",
              "      --disabled-fill-color: #AAA;\n",
              "      --disabled-bg-color: #DDD;\n",
              "  }\n",
              "\n",
              "  [theme=dark] .colab-df-quickchart {\n",
              "      --bg-color: #3B4455;\n",
              "      --fill-color: #D2E3FC;\n",
              "      --hover-bg-color: #434B5C;\n",
              "      --hover-fill-color: #FFFFFF;\n",
              "      --disabled-bg-color: #3B4455;\n",
              "      --disabled-fill-color: #666;\n",
              "  }\n",
              "\n",
              "  .colab-df-quickchart {\n",
              "    background-color: var(--bg-color);\n",
              "    border: none;\n",
              "    border-radius: 50%;\n",
              "    cursor: pointer;\n",
              "    display: none;\n",
              "    fill: var(--fill-color);\n",
              "    height: 32px;\n",
              "    padding: 0;\n",
              "    width: 32px;\n",
              "  }\n",
              "\n",
              "  .colab-df-quickchart:hover {\n",
              "    background-color: var(--hover-bg-color);\n",
              "    box-shadow: 0 1px 2px rgba(60, 64, 67, 0.3), 0 1px 3px 1px rgba(60, 64, 67, 0.15);\n",
              "    fill: var(--button-hover-fill-color);\n",
              "  }\n",
              "\n",
              "  .colab-df-quickchart-complete:disabled,\n",
              "  .colab-df-quickchart-complete:disabled:hover {\n",
              "    background-color: var(--disabled-bg-color);\n",
              "    fill: var(--disabled-fill-color);\n",
              "    box-shadow: none;\n",
              "  }\n",
              "\n",
              "  .colab-df-spinner {\n",
              "    border: 2px solid var(--fill-color);\n",
              "    border-color: transparent;\n",
              "    border-bottom-color: var(--fill-color);\n",
              "    animation:\n",
              "      spin 1s steps(1) infinite;\n",
              "  }\n",
              "\n",
              "  @keyframes spin {\n",
              "    0% {\n",
              "      border-color: transparent;\n",
              "      border-bottom-color: var(--fill-color);\n",
              "      border-left-color: var(--fill-color);\n",
              "    }\n",
              "    20% {\n",
              "      border-color: transparent;\n",
              "      border-left-color: var(--fill-color);\n",
              "      border-top-color: var(--fill-color);\n",
              "    }\n",
              "    30% {\n",
              "      border-color: transparent;\n",
              "      border-left-color: var(--fill-color);\n",
              "      border-top-color: var(--fill-color);\n",
              "      border-right-color: var(--fill-color);\n",
              "    }\n",
              "    40% {\n",
              "      border-color: transparent;\n",
              "      border-right-color: var(--fill-color);\n",
              "      border-top-color: var(--fill-color);\n",
              "    }\n",
              "    60% {\n",
              "      border-color: transparent;\n",
              "      border-right-color: var(--fill-color);\n",
              "    }\n",
              "    80% {\n",
              "      border-color: transparent;\n",
              "      border-right-color: var(--fill-color);\n",
              "      border-bottom-color: var(--fill-color);\n",
              "    }\n",
              "    90% {\n",
              "      border-color: transparent;\n",
              "      border-bottom-color: var(--fill-color);\n",
              "    }\n",
              "  }\n",
              "</style>\n",
              "\n",
              "  <script>\n",
              "    async function quickchart(key) {\n",
              "      const quickchartButtonEl =\n",
              "        document.querySelector('#' + key + ' button');\n",
              "      quickchartButtonEl.disabled = true;  // To prevent multiple clicks.\n",
              "      quickchartButtonEl.classList.add('colab-df-spinner');\n",
              "      try {\n",
              "        const charts = await google.colab.kernel.invokeFunction(\n",
              "            'suggestCharts', [key], {});\n",
              "      } catch (error) {\n",
              "        console.error('Error during call to suggestCharts:', error);\n",
              "      }\n",
              "      quickchartButtonEl.classList.remove('colab-df-spinner');\n",
              "      quickchartButtonEl.classList.add('colab-df-quickchart-complete');\n",
              "    }\n",
              "    (() => {\n",
              "      let quickchartButtonEl =\n",
              "        document.querySelector('#df-f300a7ea-ee1d-481f-9181-848cb0448053 button');\n",
              "      quickchartButtonEl.style.display =\n",
              "        google.colab.kernel.accessAllowed ? 'block' : 'none';\n",
              "    })();\n",
              "  </script>\n",
              "</div>\n",
              "    </div>\n",
              "  </div>\n"
            ],
            "application/vnd.google.colaboratory.intrinsic+json": {
              "type": "dataframe",
              "variable_name": "df",
              "summary": "{\n  \"name\": \"df\",\n  \"rows\": 1337,\n  \"fields\": [\n    {\n      \"column\": \"age\",\n      \"properties\": {\n        \"dtype\": \"number\",\n        \"std\": 14,\n        \"min\": 18,\n        \"max\": 64,\n        \"num_unique_values\": 47,\n        \"samples\": [\n          21,\n          45,\n          36\n        ],\n        \"semantic_type\": \"\",\n        \"description\": \"\"\n      }\n    },\n    {\n      \"column\": \"sex\",\n      \"properties\": {\n        \"dtype\": \"category\",\n        \"num_unique_values\": 2,\n        \"samples\": [\n          \"male\",\n          \"female\"\n        ],\n        \"semantic_type\": \"\",\n        \"description\": \"\"\n      }\n    },\n    {\n      \"column\": \"bmi\",\n      \"properties\": {\n        \"dtype\": \"number\",\n        \"std\": 6.100468409615801,\n        \"min\": 15.96,\n        \"max\": 53.13,\n        \"num_unique_values\": 548,\n        \"samples\": [\n          23.18,\n          26.885\n        ],\n        \"semantic_type\": \"\",\n        \"description\": \"\"\n      }\n    },\n    {\n      \"column\": \"children\",\n      \"properties\": {\n        \"dtype\": \"number\",\n        \"std\": 1,\n        \"min\": 0,\n        \"max\": 5,\n        \"num_unique_values\": 6,\n        \"samples\": [\n          0,\n          1\n        ],\n        \"semantic_type\": \"\",\n        \"description\": \"\"\n      }\n    },\n    {\n      \"column\": \"smoker\",\n      \"properties\": {\n        \"dtype\": \"category\",\n        \"num_unique_values\": 2,\n        \"samples\": [\n          \"no\",\n          \"yes\"\n        ],\n        \"semantic_type\": \"\",\n        \"description\": \"\"\n      }\n    },\n    {\n      \"column\": \"region\",\n      \"properties\": {\n        \"dtype\": \"category\",\n        \"num_unique_values\": 4,\n        \"samples\": [\n          \"southeast\",\n          \"northeast\"\n        ],\n        \"semantic_type\": \"\",\n        \"description\": \"\"\n      }\n    },\n    {\n      \"column\": \"charges\",\n      \"properties\": {\n        \"dtype\": \"number\",\n        \"std\": 12110.359656344175,\n        \"min\": 1121.8739,\n        \"max\": 63770.42801,\n        \"num_unique_values\": 1337,\n        \"samples\": [\n          8688.85885,\n          5708.867\n        ],\n        \"semantic_type\": \"\",\n        \"description\": \"\"\n      }\n    }\n  ]\n}"
            }
          },
          "metadata": {},
          "execution_count": 7
        }
      ]
    },
    {
      "cell_type": "markdown",
      "source": [
        "В 2020 году средние расходы на здравоохранение в расчёте на одного человека в США составили $11 012"
      ],
      "metadata": {
        "id": "tde8P6JblGtt"
      }
    },
    {
      "cell_type": "code",
      "source": [
        "X = df[['age','children','bmi']]\n",
        "y = df[['charges']]\n",
        "\n",
        "y_class = (y > 11012).astype(int)"
      ],
      "metadata": {
        "collapsed": true,
        "id": "MJJaIx5ChgL4"
      },
      "execution_count": 8,
      "outputs": []
    },
    {
      "cell_type": "code",
      "source": [
        "y_class.value_counts()"
      ],
      "metadata": {
        "colab": {
          "base_uri": "https://localhost:8080/",
          "height": 0
        },
        "id": "tzPopAxuksrH",
        "outputId": "b43c6a9c-ba7f-4988-e6db-51332d177854"
      },
      "execution_count": 9,
      "outputs": [
        {
          "output_type": "execute_result",
          "data": {
            "text/plain": [
              "charges\n",
              "0          771\n",
              "1          566\n",
              "Name: count, dtype: int64"
            ],
            "text/html": [
              "<table border=\"1\" class=\"dataframe\">\n",
              "  <thead>\n",
              "    <tr style=\"text-align: right;\">\n",
              "      <th></th>\n",
              "      <th>count</th>\n",
              "    </tr>\n",
              "    <tr>\n",
              "      <th>charges</th>\n",
              "      <th></th>\n",
              "    </tr>\n",
              "  </thead>\n",
              "  <tbody>\n",
              "    <tr>\n",
              "      <th>0</th>\n",
              "      <td>771</td>\n",
              "    </tr>\n",
              "    <tr>\n",
              "      <th>1</th>\n",
              "      <td>566</td>\n",
              "    </tr>\n",
              "  </tbody>\n",
              "</table><br><label><b>dtype:</b> int64</label>"
            ]
          },
          "metadata": {},
          "execution_count": 9
        }
      ]
    },
    {
      "cell_type": "markdown",
      "source": [
        "# 3. Модели с базовыми параметрами"
      ],
      "metadata": {
        "id": "TRHLSSl6S0r8"
      }
    },
    {
      "cell_type": "markdown",
      "source": [
        "## Наивный Баес"
      ],
      "metadata": {
        "id": "I3IqdJJQVH3R"
      }
    },
    {
      "cell_type": "markdown",
      "source": [
        "Разделяем датасет на обучающую и тестовую выборки"
      ],
      "metadata": {
        "id": "Yhl3LjpuMT22"
      }
    },
    {
      "cell_type": "code",
      "source": [
        "X_train, X_test, y_train, y_test = train_test_split(X, y_class, test_size=0.2, random_state=52)"
      ],
      "metadata": {
        "id": "BcChS65VLtIW"
      },
      "execution_count": 10,
      "outputs": []
    },
    {
      "cell_type": "code",
      "source": [
        "gnb = GaussianNB()\n",
        "\n",
        "gnb.fit(X_train, y_train)\n",
        "\n",
        "y_pred_gnb = gnb.predict(X_test)"
      ],
      "metadata": {
        "colab": {
          "base_uri": "https://localhost:8080/"
        },
        "collapsed": true,
        "id": "VXOk_SYJMq0Y",
        "outputId": "643444fd-6171-4991-86aa-0994506494e0"
      },
      "execution_count": 11,
      "outputs": [
        {
          "output_type": "stream",
          "name": "stderr",
          "text": [
            "/usr/local/lib/python3.10/dist-packages/sklearn/utils/validation.py:1183: DataConversionWarning: A column-vector y was passed when a 1d array was expected. Please change the shape of y to (n_samples, ), for example using ravel().\n",
            "  y = column_or_1d(y, warn=True)\n"
          ]
        }
      ]
    },
    {
      "cell_type": "markdown",
      "source": [
        "По CM можно увидеть, что зачастую прогнозы происходять верно"
      ],
      "metadata": {
        "id": "tuKYPYIAN6Uy"
      }
    },
    {
      "cell_type": "code",
      "source": [
        "confusion_matrix(y_test, y_pred_gnb)"
      ],
      "metadata": {
        "colab": {
          "base_uri": "https://localhost:8080/"
        },
        "id": "DdY53EeuNRAv",
        "outputId": "a362b438-307e-4367-92af-bf1ccac0fd93"
      },
      "execution_count": 12,
      "outputs": [
        {
          "output_type": "execute_result",
          "data": {
            "text/plain": [
              "array([[108,  36],\n",
              "       [ 50,  74]])"
            ]
          },
          "metadata": {},
          "execution_count": 12
        }
      ]
    },
    {
      "cell_type": "markdown",
      "source": [
        "Пока что точность модели не очень хорошая"
      ],
      "metadata": {
        "id": "qYLyPanTN71B"
      }
    },
    {
      "cell_type": "code",
      "source": [
        "accuracy_score(y_test, y_pred_gnb)"
      ],
      "metadata": {
        "colab": {
          "base_uri": "https://localhost:8080/"
        },
        "id": "ZUuS6OiSMzbQ",
        "outputId": "2c9480b7-d50f-4d54-d127-fe6b0f6abca6"
      },
      "execution_count": 13,
      "outputs": [
        {
          "output_type": "execute_result",
          "data": {
            "text/plain": [
              "0.6791044776119403"
            ]
          },
          "metadata": {},
          "execution_count": 13
        }
      ]
    },
    {
      "cell_type": "markdown",
      "source": [
        "Также и с f1, она даже хуже чем точность"
      ],
      "metadata": {
        "id": "1DqHsJGjN8wP"
      }
    },
    {
      "cell_type": "code",
      "source": [
        "f1_score(y_test, y_pred_gnb)"
      ],
      "metadata": {
        "colab": {
          "base_uri": "https://localhost:8080/"
        },
        "id": "CXPtg9plNNVJ",
        "outputId": "b9bc20ac-4f7a-4e69-a1e1-5365cdc5eb31"
      },
      "execution_count": 14,
      "outputs": [
        {
          "output_type": "execute_result",
          "data": {
            "text/plain": [
              "0.6324786324786325"
            ]
          },
          "metadata": {},
          "execution_count": 14
        }
      ]
    },
    {
      "cell_type": "markdown",
      "source": [
        "## KNN"
      ],
      "metadata": {
        "id": "GPjtR5vQVOZW"
      }
    },
    {
      "cell_type": "code",
      "source": [
        "knn_model = KNeighborsClassifier()\n",
        "\n",
        "knn_model.fit(X_train, y_train)\n",
        "\n",
        "y_pred_knn = knn_model.predict(X_test)"
      ],
      "metadata": {
        "colab": {
          "base_uri": "https://localhost:8080/"
        },
        "id": "RN6yeR7cPh2J",
        "outputId": "a7d7a5bf-5036-4f57-a386-8587a160b388"
      },
      "execution_count": 15,
      "outputs": [
        {
          "output_type": "stream",
          "name": "stderr",
          "text": [
            "/usr/local/lib/python3.10/dist-packages/sklearn/neighbors/_classification.py:233: DataConversionWarning: A column-vector y was passed when a 1d array was expected. Please change the shape of y to (n_samples,), for example using ravel().\n",
            "  return self._fit(X, y)\n"
          ]
        }
      ]
    },
    {
      "cell_type": "code",
      "source": [
        "confusion_matrix(y_test, y_pred_knn)"
      ],
      "metadata": {
        "colab": {
          "base_uri": "https://localhost:8080/"
        },
        "id": "T8hyNdbUPsLn",
        "outputId": "5b8d7efc-14ab-43c4-ed82-0b5c9ade4637"
      },
      "execution_count": 16,
      "outputs": [
        {
          "output_type": "execute_result",
          "data": {
            "text/plain": [
              "array([[126,  18],\n",
              "       [ 59,  65]])"
            ]
          },
          "metadata": {},
          "execution_count": 16
        }
      ]
    },
    {
      "cell_type": "code",
      "source": [
        "accuracy_score(y_test, y_pred_knn)"
      ],
      "metadata": {
        "colab": {
          "base_uri": "https://localhost:8080/"
        },
        "id": "oi65xZETPr_m",
        "outputId": "1cd50d38-a9f2-479a-c292-d4d52844787f"
      },
      "execution_count": 17,
      "outputs": [
        {
          "output_type": "execute_result",
          "data": {
            "text/plain": [
              "0.7126865671641791"
            ]
          },
          "metadata": {},
          "execution_count": 17
        }
      ]
    },
    {
      "cell_type": "code",
      "source": [
        "f1_score(y_test, y_pred_knn)"
      ],
      "metadata": {
        "colab": {
          "base_uri": "https://localhost:8080/"
        },
        "id": "eHAxla9rPsGu",
        "outputId": "bec489bd-b403-4a8e-b137-4792350daaac"
      },
      "execution_count": 18,
      "outputs": [
        {
          "output_type": "execute_result",
          "data": {
            "text/plain": [
              "0.6280193236714976"
            ]
          },
          "metadata": {},
          "execution_count": 18
        }
      ]
    },
    {
      "cell_type": "markdown",
      "source": [
        "При нашей выборке KNN работает чуть хуже чем Наивный Баес"
      ],
      "metadata": {
        "id": "8El6mg42P9L1"
      }
    },
    {
      "cell_type": "markdown",
      "source": [
        "## Логистическая регрессия"
      ],
      "metadata": {
        "id": "wo6laeMOEuYF"
      }
    },
    {
      "cell_type": "code",
      "source": [
        "lr = LogisticRegression()\n",
        "\n",
        "lr.fit(X_train, y_train)\n",
        "\n",
        "y_pred_lr = lr.predict(X_test)"
      ],
      "metadata": {
        "colab": {
          "base_uri": "https://localhost:8080/"
        },
        "id": "wH-wZzn9QPzG",
        "outputId": "616eb3c7-fc08-4f0d-865e-5323ee3da2c4"
      },
      "execution_count": 19,
      "outputs": [
        {
          "output_type": "stream",
          "name": "stderr",
          "text": [
            "/usr/local/lib/python3.10/dist-packages/sklearn/utils/validation.py:1183: DataConversionWarning: A column-vector y was passed when a 1d array was expected. Please change the shape of y to (n_samples, ), for example using ravel().\n",
            "  y = column_or_1d(y, warn=True)\n"
          ]
        }
      ]
    },
    {
      "cell_type": "code",
      "source": [
        "confusion_matrix(y_test, y_pred_lr)"
      ],
      "metadata": {
        "colab": {
          "base_uri": "https://localhost:8080/"
        },
        "id": "BNIHQkZKQcvk",
        "outputId": "d8a07390-983b-427e-86ba-f57423f6e567"
      },
      "execution_count": 20,
      "outputs": [
        {
          "output_type": "execute_result",
          "data": {
            "text/plain": [
              "array([[99, 45],\n",
              "       [46, 78]])"
            ]
          },
          "metadata": {},
          "execution_count": 20
        }
      ]
    },
    {
      "cell_type": "code",
      "source": [
        "accuracy_score(y_test, y_pred_lr)"
      ],
      "metadata": {
        "colab": {
          "base_uri": "https://localhost:8080/"
        },
        "id": "fcCzwqeiQc17",
        "outputId": "490c2745-223e-4565-bb61-efc79726f300"
      },
      "execution_count": 21,
      "outputs": [
        {
          "output_type": "execute_result",
          "data": {
            "text/plain": [
              "0.6604477611940298"
            ]
          },
          "metadata": {},
          "execution_count": 21
        }
      ]
    },
    {
      "cell_type": "code",
      "source": [
        "f1_score(y_test, y_pred_lr)"
      ],
      "metadata": {
        "colab": {
          "base_uri": "https://localhost:8080/"
        },
        "id": "NJIQWemCQc6c",
        "outputId": "58a84bb2-7d5a-45c9-a1b3-2d83998f48dc"
      },
      "execution_count": 22,
      "outputs": [
        {
          "output_type": "execute_result",
          "data": {
            "text/plain": [
              "0.6315789473684211"
            ]
          },
          "metadata": {},
          "execution_count": 22
        }
      ]
    },
    {
      "cell_type": "markdown",
      "source": [
        "## В итоге, при базовых параметрах лучшую точность показал KNN, а лучший f1_score - показал Наивный Баес"
      ],
      "metadata": {
        "id": "DvoLe8KPQonI"
      }
    },
    {
      "cell_type": "markdown",
      "source": [
        "# 4. Модели с гиперпараметрами"
      ],
      "metadata": {
        "id": "mUua9-q5bRzE"
      }
    },
    {
      "cell_type": "markdown",
      "source": [
        "## Подбор гиперпараметров"
      ],
      "metadata": {
        "id": "j49qhzxgwPLu"
      }
    },
    {
      "cell_type": "markdown",
      "source": [
        "Для числовых признаков произвели нормировку\n",
        "\n",
        "С помощью gridsearchCV подобрали лучшие параметры к моделям"
      ],
      "metadata": {
        "id": "hzk_1gSm5mVQ"
      }
    },
    {
      "cell_type": "code",
      "source": [
        "X_train, X_test, y_train, y_test = train_test_split(X, y_class, test_size=0.2, random_state=52)\n",
        "\n",
        "scaler = MinMaxScaler()\n",
        "\n",
        "X_train_scaled = scaler.fit_transform(X_train)\n",
        "X_test_scaled = scaler.transform(X_test)\n",
        "\n",
        "gnb = GaussianNB()\n",
        "knn_model = KNeighborsClassifier()\n",
        "lr = LogisticRegression()\n",
        "\n",
        "params_knn = {'n_neighbors' : np.arange(1, 31),\n",
        "          'weights' : ['uniform', 'distance'],\n",
        "          'p' : [1, 2]}\n",
        "\n",
        "params_lr={'C' : np.logspace(-3,3,7),\n",
        "           'penalty' : ['l1', 'l2'],\n",
        "           'solver' : ['lbfgs', 'liblinear']}\n",
        "\n",
        "params_NB = {'var_smoothing': np.logspace(0, -9, num=100)}\n",
        "\n",
        "\n",
        "gs_knn = GridSearchCV(knn_model, params_knn, scoring='f1', cv=3, n_jobs=-1, verbose=3)\n",
        "gs_gnb = GridSearchCV(gnb, params_NB, scoring='f1', cv=3, n_jobs=-1, verbose=3)\n",
        "gs_lr = GridSearchCV(lr, params_lr, scoring='f1', cv=3, n_jobs=-1, verbose=3)"
      ],
      "metadata": {
        "id": "JGZbBiFXyjL3"
      },
      "execution_count": 23,
      "outputs": []
    },
    {
      "cell_type": "markdown",
      "source": [
        "## Наивный байес"
      ],
      "metadata": {
        "id": "g2g_Axam82Rz"
      }
    },
    {
      "cell_type": "code",
      "source": [
        "gs_gnb.fit(X_train_scaled, y_train)"
      ],
      "metadata": {
        "colab": {
          "base_uri": "https://localhost:8080/",
          "height": 169
        },
        "id": "x9NLkmKO9A0N",
        "outputId": "d2ba3334-8b8d-472a-83c1-f8ee1f55e97f"
      },
      "execution_count": 24,
      "outputs": [
        {
          "output_type": "stream",
          "name": "stdout",
          "text": [
            "Fitting 3 folds for each of 100 candidates, totalling 300 fits\n"
          ]
        },
        {
          "output_type": "stream",
          "name": "stderr",
          "text": [
            "/usr/local/lib/python3.10/dist-packages/sklearn/utils/validation.py:1183: DataConversionWarning: A column-vector y was passed when a 1d array was expected. Please change the shape of y to (n_samples, ), for example using ravel().\n",
            "  y = column_or_1d(y, warn=True)\n"
          ]
        },
        {
          "output_type": "execute_result",
          "data": {
            "text/plain": [
              "GridSearchCV(cv=3, estimator=GaussianNB(), n_jobs=-1,\n",
              "             param_grid={'var_smoothing': array([1.00000000e+00, 8.11130831e-01, 6.57933225e-01, 5.33669923e-01,\n",
              "       4.32876128e-01, 3.51119173e-01, 2.84803587e-01, 2.31012970e-01,\n",
              "       1.87381742e-01, 1.51991108e-01, 1.23284674e-01, 1.00000000e-01,\n",
              "       8.11130831e-02, 6.57933225e-02, 5.33669923e-02, 4.32876128e-02,\n",
              "       3.51119173e-02, 2.8480358...\n",
              "       1.23284674e-07, 1.00000000e-07, 8.11130831e-08, 6.57933225e-08,\n",
              "       5.33669923e-08, 4.32876128e-08, 3.51119173e-08, 2.84803587e-08,\n",
              "       2.31012970e-08, 1.87381742e-08, 1.51991108e-08, 1.23284674e-08,\n",
              "       1.00000000e-08, 8.11130831e-09, 6.57933225e-09, 5.33669923e-09,\n",
              "       4.32876128e-09, 3.51119173e-09, 2.84803587e-09, 2.31012970e-09,\n",
              "       1.87381742e-09, 1.51991108e-09, 1.23284674e-09, 1.00000000e-09])},\n",
              "             scoring='f1', verbose=3)"
            ],
            "text/html": [
              "<style>#sk-container-id-1 {color: black;}#sk-container-id-1 pre{padding: 0;}#sk-container-id-1 div.sk-toggleable {background-color: white;}#sk-container-id-1 label.sk-toggleable__label {cursor: pointer;display: block;width: 100%;margin-bottom: 0;padding: 0.3em;box-sizing: border-box;text-align: center;}#sk-container-id-1 label.sk-toggleable__label-arrow:before {content: \"▸\";float: left;margin-right: 0.25em;color: #696969;}#sk-container-id-1 label.sk-toggleable__label-arrow:hover:before {color: black;}#sk-container-id-1 div.sk-estimator:hover label.sk-toggleable__label-arrow:before {color: black;}#sk-container-id-1 div.sk-toggleable__content {max-height: 0;max-width: 0;overflow: hidden;text-align: left;background-color: #f0f8ff;}#sk-container-id-1 div.sk-toggleable__content pre {margin: 0.2em;color: black;border-radius: 0.25em;background-color: #f0f8ff;}#sk-container-id-1 input.sk-toggleable__control:checked~div.sk-toggleable__content {max-height: 200px;max-width: 100%;overflow: auto;}#sk-container-id-1 input.sk-toggleable__control:checked~label.sk-toggleable__label-arrow:before {content: \"▾\";}#sk-container-id-1 div.sk-estimator input.sk-toggleable__control:checked~label.sk-toggleable__label {background-color: #d4ebff;}#sk-container-id-1 div.sk-label input.sk-toggleable__control:checked~label.sk-toggleable__label {background-color: #d4ebff;}#sk-container-id-1 input.sk-hidden--visually {border: 0;clip: rect(1px 1px 1px 1px);clip: rect(1px, 1px, 1px, 1px);height: 1px;margin: -1px;overflow: hidden;padding: 0;position: absolute;width: 1px;}#sk-container-id-1 div.sk-estimator {font-family: monospace;background-color: #f0f8ff;border: 1px dotted black;border-radius: 0.25em;box-sizing: border-box;margin-bottom: 0.5em;}#sk-container-id-1 div.sk-estimator:hover {background-color: #d4ebff;}#sk-container-id-1 div.sk-parallel-item::after {content: \"\";width: 100%;border-bottom: 1px solid gray;flex-grow: 1;}#sk-container-id-1 div.sk-label:hover label.sk-toggleable__label {background-color: #d4ebff;}#sk-container-id-1 div.sk-serial::before {content: \"\";position: absolute;border-left: 1px solid gray;box-sizing: border-box;top: 0;bottom: 0;left: 50%;z-index: 0;}#sk-container-id-1 div.sk-serial {display: flex;flex-direction: column;align-items: center;background-color: white;padding-right: 0.2em;padding-left: 0.2em;position: relative;}#sk-container-id-1 div.sk-item {position: relative;z-index: 1;}#sk-container-id-1 div.sk-parallel {display: flex;align-items: stretch;justify-content: center;background-color: white;position: relative;}#sk-container-id-1 div.sk-item::before, #sk-container-id-1 div.sk-parallel-item::before {content: \"\";position: absolute;border-left: 1px solid gray;box-sizing: border-box;top: 0;bottom: 0;left: 50%;z-index: -1;}#sk-container-id-1 div.sk-parallel-item {display: flex;flex-direction: column;z-index: 1;position: relative;background-color: white;}#sk-container-id-1 div.sk-parallel-item:first-child::after {align-self: flex-end;width: 50%;}#sk-container-id-1 div.sk-parallel-item:last-child::after {align-self: flex-start;width: 50%;}#sk-container-id-1 div.sk-parallel-item:only-child::after {width: 0;}#sk-container-id-1 div.sk-dashed-wrapped {border: 1px dashed gray;margin: 0 0.4em 0.5em 0.4em;box-sizing: border-box;padding-bottom: 0.4em;background-color: white;}#sk-container-id-1 div.sk-label label {font-family: monospace;font-weight: bold;display: inline-block;line-height: 1.2em;}#sk-container-id-1 div.sk-label-container {text-align: center;}#sk-container-id-1 div.sk-container {/* jupyter's `normalize.less` sets `[hidden] { display: none; }` but bootstrap.min.css set `[hidden] { display: none !important; }` so we also need the `!important` here to be able to override the default hidden behavior on the sphinx rendered scikit-learn.org. See: https://github.com/scikit-learn/scikit-learn/issues/21755 */display: inline-block !important;position: relative;}#sk-container-id-1 div.sk-text-repr-fallback {display: none;}</style><div id=\"sk-container-id-1\" class=\"sk-top-container\"><div class=\"sk-text-repr-fallback\"><pre>GridSearchCV(cv=3, estimator=GaussianNB(), n_jobs=-1,\n",
              "             param_grid={&#x27;var_smoothing&#x27;: array([1.00000000e+00, 8.11130831e-01, 6.57933225e-01, 5.33669923e-01,\n",
              "       4.32876128e-01, 3.51119173e-01, 2.84803587e-01, 2.31012970e-01,\n",
              "       1.87381742e-01, 1.51991108e-01, 1.23284674e-01, 1.00000000e-01,\n",
              "       8.11130831e-02, 6.57933225e-02, 5.33669923e-02, 4.32876128e-02,\n",
              "       3.51119173e-02, 2.8480358...\n",
              "       1.23284674e-07, 1.00000000e-07, 8.11130831e-08, 6.57933225e-08,\n",
              "       5.33669923e-08, 4.32876128e-08, 3.51119173e-08, 2.84803587e-08,\n",
              "       2.31012970e-08, 1.87381742e-08, 1.51991108e-08, 1.23284674e-08,\n",
              "       1.00000000e-08, 8.11130831e-09, 6.57933225e-09, 5.33669923e-09,\n",
              "       4.32876128e-09, 3.51119173e-09, 2.84803587e-09, 2.31012970e-09,\n",
              "       1.87381742e-09, 1.51991108e-09, 1.23284674e-09, 1.00000000e-09])},\n",
              "             scoring=&#x27;f1&#x27;, verbose=3)</pre><b>In a Jupyter environment, please rerun this cell to show the HTML representation or trust the notebook. <br />On GitHub, the HTML representation is unable to render, please try loading this page with nbviewer.org.</b></div><div class=\"sk-container\" hidden><div class=\"sk-item sk-dashed-wrapped\"><div class=\"sk-label-container\"><div class=\"sk-label sk-toggleable\"><input class=\"sk-toggleable__control sk-hidden--visually\" id=\"sk-estimator-id-1\" type=\"checkbox\" ><label for=\"sk-estimator-id-1\" class=\"sk-toggleable__label sk-toggleable__label-arrow\">GridSearchCV</label><div class=\"sk-toggleable__content\"><pre>GridSearchCV(cv=3, estimator=GaussianNB(), n_jobs=-1,\n",
              "             param_grid={&#x27;var_smoothing&#x27;: array([1.00000000e+00, 8.11130831e-01, 6.57933225e-01, 5.33669923e-01,\n",
              "       4.32876128e-01, 3.51119173e-01, 2.84803587e-01, 2.31012970e-01,\n",
              "       1.87381742e-01, 1.51991108e-01, 1.23284674e-01, 1.00000000e-01,\n",
              "       8.11130831e-02, 6.57933225e-02, 5.33669923e-02, 4.32876128e-02,\n",
              "       3.51119173e-02, 2.8480358...\n",
              "       1.23284674e-07, 1.00000000e-07, 8.11130831e-08, 6.57933225e-08,\n",
              "       5.33669923e-08, 4.32876128e-08, 3.51119173e-08, 2.84803587e-08,\n",
              "       2.31012970e-08, 1.87381742e-08, 1.51991108e-08, 1.23284674e-08,\n",
              "       1.00000000e-08, 8.11130831e-09, 6.57933225e-09, 5.33669923e-09,\n",
              "       4.32876128e-09, 3.51119173e-09, 2.84803587e-09, 2.31012970e-09,\n",
              "       1.87381742e-09, 1.51991108e-09, 1.23284674e-09, 1.00000000e-09])},\n",
              "             scoring=&#x27;f1&#x27;, verbose=3)</pre></div></div></div><div class=\"sk-parallel\"><div class=\"sk-parallel-item\"><div class=\"sk-item\"><div class=\"sk-label-container\"><div class=\"sk-label sk-toggleable\"><input class=\"sk-toggleable__control sk-hidden--visually\" id=\"sk-estimator-id-2\" type=\"checkbox\" ><label for=\"sk-estimator-id-2\" class=\"sk-toggleable__label sk-toggleable__label-arrow\">estimator: GaussianNB</label><div class=\"sk-toggleable__content\"><pre>GaussianNB()</pre></div></div></div><div class=\"sk-serial\"><div class=\"sk-item\"><div class=\"sk-estimator sk-toggleable\"><input class=\"sk-toggleable__control sk-hidden--visually\" id=\"sk-estimator-id-3\" type=\"checkbox\" ><label for=\"sk-estimator-id-3\" class=\"sk-toggleable__label sk-toggleable__label-arrow\">GaussianNB</label><div class=\"sk-toggleable__content\"><pre>GaussianNB()</pre></div></div></div></div></div></div></div></div></div></div>"
            ]
          },
          "metadata": {},
          "execution_count": 24
        }
      ]
    },
    {
      "cell_type": "code",
      "source": [
        "gs_gnb.best_params_"
      ],
      "metadata": {
        "colab": {
          "base_uri": "https://localhost:8080/"
        },
        "id": "1yyIPcrg9OMo",
        "outputId": "5f973f85-3883-4845-8be1-875fd40bbc95"
      },
      "execution_count": 25,
      "outputs": [
        {
          "output_type": "execute_result",
          "data": {
            "text/plain": [
              "{'var_smoothing': 0.03511191734215131}"
            ]
          },
          "metadata": {},
          "execution_count": 25
        }
      ]
    },
    {
      "cell_type": "code",
      "source": [
        "gnb_best = GaussianNB(var_smoothing=0.03511191734215131)\n",
        "\n",
        "gnb_best.fit(X_train_scaled, y_train)\n",
        "\n",
        "y_pred_gnb_best = gnb_best.predict(X_test_scaled)"
      ],
      "metadata": {
        "colab": {
          "base_uri": "https://localhost:8080/"
        },
        "id": "NIfLSRQ9-jhN",
        "outputId": "a006315d-d182-428e-e42e-f36b9b513df1"
      },
      "execution_count": 26,
      "outputs": [
        {
          "output_type": "stream",
          "name": "stderr",
          "text": [
            "/usr/local/lib/python3.10/dist-packages/sklearn/utils/validation.py:1183: DataConversionWarning: A column-vector y was passed when a 1d array was expected. Please change the shape of y to (n_samples, ), for example using ravel().\n",
            "  y = column_or_1d(y, warn=True)\n"
          ]
        }
      ]
    },
    {
      "cell_type": "code",
      "source": [
        "confusion_matrix(y_test, y_pred_gnb_best)"
      ],
      "metadata": {
        "colab": {
          "base_uri": "https://localhost:8080/"
        },
        "id": "b7GokwyR_HmJ",
        "outputId": "354f2061-bb8c-476a-a86b-ceb38ce961a6"
      },
      "execution_count": 27,
      "outputs": [
        {
          "output_type": "execute_result",
          "data": {
            "text/plain": [
              "array([[108,  36],\n",
              "       [ 50,  74]])"
            ]
          },
          "metadata": {},
          "execution_count": 27
        }
      ]
    },
    {
      "cell_type": "code",
      "source": [
        "accuracy_score(y_test, y_pred_gnb_best)"
      ],
      "metadata": {
        "colab": {
          "base_uri": "https://localhost:8080/"
        },
        "id": "cxA7SG1Y_Hr_",
        "outputId": "3e4d985f-341d-4dd2-8e3c-0a9ba3b9f195"
      },
      "execution_count": 28,
      "outputs": [
        {
          "output_type": "execute_result",
          "data": {
            "text/plain": [
              "0.6791044776119403"
            ]
          },
          "metadata": {},
          "execution_count": 28
        }
      ]
    },
    {
      "cell_type": "code",
      "source": [
        "f1_score(y_test, y_pred_gnb_best)"
      ],
      "metadata": {
        "colab": {
          "base_uri": "https://localhost:8080/"
        },
        "id": "eBV8J_tF_Hyl",
        "outputId": "1558f4e8-8659-4cbb-f80d-72ea06628bea"
      },
      "execution_count": 29,
      "outputs": [
        {
          "output_type": "execute_result",
          "data": {
            "text/plain": [
              "0.6324786324786325"
            ]
          },
          "metadata": {},
          "execution_count": 29
        }
      ]
    },
    {
      "cell_type": "markdown",
      "source": [
        "После подбора гиперпараметров ни точность, ни f1 score не изменились"
      ],
      "metadata": {
        "id": "xYFwlaf_AtGl"
      }
    },
    {
      "cell_type": "markdown",
      "source": [
        "## KNN"
      ],
      "metadata": {
        "id": "EwqNHTld860b"
      }
    },
    {
      "cell_type": "code",
      "source": [
        "gs_knn.fit(X_train_scaled,y_train)"
      ],
      "metadata": {
        "colab": {
          "base_uri": "https://localhost:8080/",
          "height": 169
        },
        "id": "LHuDfQp99C7h",
        "outputId": "e1b1f278-afd5-4dde-8c6b-49f31da555e9"
      },
      "execution_count": 30,
      "outputs": [
        {
          "output_type": "stream",
          "name": "stdout",
          "text": [
            "Fitting 3 folds for each of 120 candidates, totalling 360 fits\n"
          ]
        },
        {
          "output_type": "stream",
          "name": "stderr",
          "text": [
            "/usr/local/lib/python3.10/dist-packages/sklearn/neighbors/_classification.py:233: DataConversionWarning: A column-vector y was passed when a 1d array was expected. Please change the shape of y to (n_samples,), for example using ravel().\n",
            "  return self._fit(X, y)\n"
          ]
        },
        {
          "output_type": "execute_result",
          "data": {
            "text/plain": [
              "GridSearchCV(cv=3, estimator=KNeighborsClassifier(), n_jobs=-1,\n",
              "             param_grid={'n_neighbors': array([ 1,  2,  3,  4,  5,  6,  7,  8,  9, 10, 11, 12, 13, 14, 15, 16, 17,\n",
              "       18, 19, 20, 21, 22, 23, 24, 25, 26, 27, 28, 29, 30]),\n",
              "                         'p': [1, 2], 'weights': ['uniform', 'distance']},\n",
              "             scoring='f1', verbose=3)"
            ],
            "text/html": [
              "<style>#sk-container-id-2 {color: black;}#sk-container-id-2 pre{padding: 0;}#sk-container-id-2 div.sk-toggleable {background-color: white;}#sk-container-id-2 label.sk-toggleable__label {cursor: pointer;display: block;width: 100%;margin-bottom: 0;padding: 0.3em;box-sizing: border-box;text-align: center;}#sk-container-id-2 label.sk-toggleable__label-arrow:before {content: \"▸\";float: left;margin-right: 0.25em;color: #696969;}#sk-container-id-2 label.sk-toggleable__label-arrow:hover:before {color: black;}#sk-container-id-2 div.sk-estimator:hover label.sk-toggleable__label-arrow:before {color: black;}#sk-container-id-2 div.sk-toggleable__content {max-height: 0;max-width: 0;overflow: hidden;text-align: left;background-color: #f0f8ff;}#sk-container-id-2 div.sk-toggleable__content pre {margin: 0.2em;color: black;border-radius: 0.25em;background-color: #f0f8ff;}#sk-container-id-2 input.sk-toggleable__control:checked~div.sk-toggleable__content {max-height: 200px;max-width: 100%;overflow: auto;}#sk-container-id-2 input.sk-toggleable__control:checked~label.sk-toggleable__label-arrow:before {content: \"▾\";}#sk-container-id-2 div.sk-estimator input.sk-toggleable__control:checked~label.sk-toggleable__label {background-color: #d4ebff;}#sk-container-id-2 div.sk-label input.sk-toggleable__control:checked~label.sk-toggleable__label {background-color: #d4ebff;}#sk-container-id-2 input.sk-hidden--visually {border: 0;clip: rect(1px 1px 1px 1px);clip: rect(1px, 1px, 1px, 1px);height: 1px;margin: -1px;overflow: hidden;padding: 0;position: absolute;width: 1px;}#sk-container-id-2 div.sk-estimator {font-family: monospace;background-color: #f0f8ff;border: 1px dotted black;border-radius: 0.25em;box-sizing: border-box;margin-bottom: 0.5em;}#sk-container-id-2 div.sk-estimator:hover {background-color: #d4ebff;}#sk-container-id-2 div.sk-parallel-item::after {content: \"\";width: 100%;border-bottom: 1px solid gray;flex-grow: 1;}#sk-container-id-2 div.sk-label:hover label.sk-toggleable__label {background-color: #d4ebff;}#sk-container-id-2 div.sk-serial::before {content: \"\";position: absolute;border-left: 1px solid gray;box-sizing: border-box;top: 0;bottom: 0;left: 50%;z-index: 0;}#sk-container-id-2 div.sk-serial {display: flex;flex-direction: column;align-items: center;background-color: white;padding-right: 0.2em;padding-left: 0.2em;position: relative;}#sk-container-id-2 div.sk-item {position: relative;z-index: 1;}#sk-container-id-2 div.sk-parallel {display: flex;align-items: stretch;justify-content: center;background-color: white;position: relative;}#sk-container-id-2 div.sk-item::before, #sk-container-id-2 div.sk-parallel-item::before {content: \"\";position: absolute;border-left: 1px solid gray;box-sizing: border-box;top: 0;bottom: 0;left: 50%;z-index: -1;}#sk-container-id-2 div.sk-parallel-item {display: flex;flex-direction: column;z-index: 1;position: relative;background-color: white;}#sk-container-id-2 div.sk-parallel-item:first-child::after {align-self: flex-end;width: 50%;}#sk-container-id-2 div.sk-parallel-item:last-child::after {align-self: flex-start;width: 50%;}#sk-container-id-2 div.sk-parallel-item:only-child::after {width: 0;}#sk-container-id-2 div.sk-dashed-wrapped {border: 1px dashed gray;margin: 0 0.4em 0.5em 0.4em;box-sizing: border-box;padding-bottom: 0.4em;background-color: white;}#sk-container-id-2 div.sk-label label {font-family: monospace;font-weight: bold;display: inline-block;line-height: 1.2em;}#sk-container-id-2 div.sk-label-container {text-align: center;}#sk-container-id-2 div.sk-container {/* jupyter's `normalize.less` sets `[hidden] { display: none; }` but bootstrap.min.css set `[hidden] { display: none !important; }` so we also need the `!important` here to be able to override the default hidden behavior on the sphinx rendered scikit-learn.org. See: https://github.com/scikit-learn/scikit-learn/issues/21755 */display: inline-block !important;position: relative;}#sk-container-id-2 div.sk-text-repr-fallback {display: none;}</style><div id=\"sk-container-id-2\" class=\"sk-top-container\"><div class=\"sk-text-repr-fallback\"><pre>GridSearchCV(cv=3, estimator=KNeighborsClassifier(), n_jobs=-1,\n",
              "             param_grid={&#x27;n_neighbors&#x27;: array([ 1,  2,  3,  4,  5,  6,  7,  8,  9, 10, 11, 12, 13, 14, 15, 16, 17,\n",
              "       18, 19, 20, 21, 22, 23, 24, 25, 26, 27, 28, 29, 30]),\n",
              "                         &#x27;p&#x27;: [1, 2], &#x27;weights&#x27;: [&#x27;uniform&#x27;, &#x27;distance&#x27;]},\n",
              "             scoring=&#x27;f1&#x27;, verbose=3)</pre><b>In a Jupyter environment, please rerun this cell to show the HTML representation or trust the notebook. <br />On GitHub, the HTML representation is unable to render, please try loading this page with nbviewer.org.</b></div><div class=\"sk-container\" hidden><div class=\"sk-item sk-dashed-wrapped\"><div class=\"sk-label-container\"><div class=\"sk-label sk-toggleable\"><input class=\"sk-toggleable__control sk-hidden--visually\" id=\"sk-estimator-id-4\" type=\"checkbox\" ><label for=\"sk-estimator-id-4\" class=\"sk-toggleable__label sk-toggleable__label-arrow\">GridSearchCV</label><div class=\"sk-toggleable__content\"><pre>GridSearchCV(cv=3, estimator=KNeighborsClassifier(), n_jobs=-1,\n",
              "             param_grid={&#x27;n_neighbors&#x27;: array([ 1,  2,  3,  4,  5,  6,  7,  8,  9, 10, 11, 12, 13, 14, 15, 16, 17,\n",
              "       18, 19, 20, 21, 22, 23, 24, 25, 26, 27, 28, 29, 30]),\n",
              "                         &#x27;p&#x27;: [1, 2], &#x27;weights&#x27;: [&#x27;uniform&#x27;, &#x27;distance&#x27;]},\n",
              "             scoring=&#x27;f1&#x27;, verbose=3)</pre></div></div></div><div class=\"sk-parallel\"><div class=\"sk-parallel-item\"><div class=\"sk-item\"><div class=\"sk-label-container\"><div class=\"sk-label sk-toggleable\"><input class=\"sk-toggleable__control sk-hidden--visually\" id=\"sk-estimator-id-5\" type=\"checkbox\" ><label for=\"sk-estimator-id-5\" class=\"sk-toggleable__label sk-toggleable__label-arrow\">estimator: KNeighborsClassifier</label><div class=\"sk-toggleable__content\"><pre>KNeighborsClassifier()</pre></div></div></div><div class=\"sk-serial\"><div class=\"sk-item\"><div class=\"sk-estimator sk-toggleable\"><input class=\"sk-toggleable__control sk-hidden--visually\" id=\"sk-estimator-id-6\" type=\"checkbox\" ><label for=\"sk-estimator-id-6\" class=\"sk-toggleable__label sk-toggleable__label-arrow\">KNeighborsClassifier</label><div class=\"sk-toggleable__content\"><pre>KNeighborsClassifier()</pre></div></div></div></div></div></div></div></div></div></div>"
            ]
          },
          "metadata": {},
          "execution_count": 30
        }
      ]
    },
    {
      "cell_type": "code",
      "source": [
        "gs_knn.best_params_"
      ],
      "metadata": {
        "colab": {
          "base_uri": "https://localhost:8080/"
        },
        "id": "vwsg_Zv09kG1",
        "outputId": "e6be22a3-fa29-433a-ee34-59337250f0df"
      },
      "execution_count": 31,
      "outputs": [
        {
          "output_type": "execute_result",
          "data": {
            "text/plain": [
              "{'n_neighbors': 28, 'p': 1, 'weights': 'uniform'}"
            ]
          },
          "metadata": {},
          "execution_count": 31
        }
      ]
    },
    {
      "cell_type": "code",
      "source": [
        "knn_model_best = KNeighborsClassifier(n_neighbors=28, p=1, weights='uniform')\n",
        "\n",
        "knn_model_best.fit(X_train_scaled, y_train)\n",
        "\n",
        "y_pred_knn_best = knn_model_best.predict(X_test_scaled)"
      ],
      "metadata": {
        "colab": {
          "base_uri": "https://localhost:8080/"
        },
        "id": "8XQWBCe7AE8o",
        "outputId": "f8419073-5eaf-4e07-8cec-31731b8edf98"
      },
      "execution_count": 32,
      "outputs": [
        {
          "output_type": "stream",
          "name": "stderr",
          "text": [
            "/usr/local/lib/python3.10/dist-packages/sklearn/neighbors/_classification.py:233: DataConversionWarning: A column-vector y was passed when a 1d array was expected. Please change the shape of y to (n_samples,), for example using ravel().\n",
            "  return self._fit(X, y)\n"
          ]
        }
      ]
    },
    {
      "cell_type": "code",
      "source": [
        "confusion_matrix(y_test, y_pred_knn_best)"
      ],
      "metadata": {
        "colab": {
          "base_uri": "https://localhost:8080/"
        },
        "id": "9hR9QADOAQD5",
        "outputId": "16868fd0-bbc7-4595-9447-c731df2bca71"
      },
      "execution_count": 33,
      "outputs": [
        {
          "output_type": "execute_result",
          "data": {
            "text/plain": [
              "array([[135,   9],\n",
              "       [ 60,  64]])"
            ]
          },
          "metadata": {},
          "execution_count": 33
        }
      ]
    },
    {
      "cell_type": "code",
      "source": [
        "accuracy_score(y_test, y_pred_knn_best)"
      ],
      "metadata": {
        "colab": {
          "base_uri": "https://localhost:8080/"
        },
        "id": "YtkQggybAQJB",
        "outputId": "788ee290-2d33-40da-87fe-9b32f4216e08"
      },
      "execution_count": 34,
      "outputs": [
        {
          "output_type": "execute_result",
          "data": {
            "text/plain": [
              "0.7425373134328358"
            ]
          },
          "metadata": {},
          "execution_count": 34
        }
      ]
    },
    {
      "cell_type": "code",
      "source": [
        "f1_score(y_test, y_pred_knn_best)"
      ],
      "metadata": {
        "colab": {
          "base_uri": "https://localhost:8080/"
        },
        "id": "JvG7VH88AQLg",
        "outputId": "3e1be421-8e10-48e2-f9de-016ede958357"
      },
      "execution_count": 35,
      "outputs": [
        {
          "output_type": "execute_result",
          "data": {
            "text/plain": [
              "0.649746192893401"
            ]
          },
          "metadata": {},
          "execution_count": 35
        }
      ]
    },
    {
      "cell_type": "markdown",
      "source": [
        "После подбора гиперпараметров у нас немного повысились обе метрики"
      ],
      "metadata": {
        "id": "z_VawTA-BRbU"
      }
    },
    {
      "cell_type": "markdown",
      "source": [
        "## Логистическая регрессия"
      ],
      "metadata": {
        "id": "vPKB7Viq86-3"
      }
    },
    {
      "cell_type": "code",
      "source": [
        "gs_lr.fit(X_train_scaled, y_train)"
      ],
      "metadata": {
        "colab": {
          "base_uri": "https://localhost:8080/",
          "height": 620
        },
        "id": "8ucmhtqY9FC6",
        "outputId": "6675aa9c-d820-41fe-ec8d-2e95b9df6840"
      },
      "execution_count": 36,
      "outputs": [
        {
          "output_type": "stream",
          "name": "stdout",
          "text": [
            "Fitting 3 folds for each of 28 candidates, totalling 84 fits\n"
          ]
        },
        {
          "output_type": "stream",
          "name": "stderr",
          "text": [
            "/usr/local/lib/python3.10/dist-packages/sklearn/model_selection/_validation.py:425: FitFailedWarning: \n",
            "21 fits failed out of a total of 84.\n",
            "The score on these train-test partitions for these parameters will be set to nan.\n",
            "If these failures are not expected, you can try to debug them by setting error_score='raise'.\n",
            "\n",
            "Below are more details about the failures:\n",
            "--------------------------------------------------------------------------------\n",
            "21 fits failed with the following error:\n",
            "Traceback (most recent call last):\n",
            "  File \"/usr/local/lib/python3.10/dist-packages/sklearn/model_selection/_validation.py\", line 729, in _fit_and_score\n",
            "    estimator.fit(X_train, y_train, **fit_params)\n",
            "  File \"/usr/local/lib/python3.10/dist-packages/sklearn/base.py\", line 1152, in wrapper\n",
            "    return fit_method(estimator, *args, **kwargs)\n",
            "  File \"/usr/local/lib/python3.10/dist-packages/sklearn/linear_model/_logistic.py\", line 1169, in fit\n",
            "    solver = _check_solver(self.solver, self.penalty, self.dual)\n",
            "  File \"/usr/local/lib/python3.10/dist-packages/sklearn/linear_model/_logistic.py\", line 56, in _check_solver\n",
            "    raise ValueError(\n",
            "ValueError: Solver lbfgs supports only 'l2' or 'none' penalties, got l1 penalty.\n",
            "\n",
            "  warnings.warn(some_fits_failed_message, FitFailedWarning)\n",
            "/usr/local/lib/python3.10/dist-packages/sklearn/model_selection/_search.py:979: UserWarning: One or more of the test scores are non-finite: [       nan 0.         0.         0.                nan 0.\n",
            " 0.         0.                nan 0.60977689 0.58905245 0.58657148\n",
            "        nan 0.60692307 0.60869881 0.60518635        nan 0.61555294\n",
            " 0.61213798 0.61394563        nan 0.61323222 0.61323222 0.61323222\n",
            "        nan 0.61323222 0.61323222 0.61323222]\n",
            "  warnings.warn(\n",
            "/usr/local/lib/python3.10/dist-packages/sklearn/utils/validation.py:1183: DataConversionWarning: A column-vector y was passed when a 1d array was expected. Please change the shape of y to (n_samples, ), for example using ravel().\n",
            "  y = column_or_1d(y, warn=True)\n"
          ]
        },
        {
          "output_type": "execute_result",
          "data": {
            "text/plain": [
              "GridSearchCV(cv=3, estimator=LogisticRegression(), n_jobs=-1,\n",
              "             param_grid={'C': array([1.e-03, 1.e-02, 1.e-01, 1.e+00, 1.e+01, 1.e+02, 1.e+03]),\n",
              "                         'penalty': ['l1', 'l2'],\n",
              "                         'solver': ['lbfgs', 'liblinear']},\n",
              "             scoring='f1', verbose=3)"
            ],
            "text/html": [
              "<style>#sk-container-id-3 {color: black;}#sk-container-id-3 pre{padding: 0;}#sk-container-id-3 div.sk-toggleable {background-color: white;}#sk-container-id-3 label.sk-toggleable__label {cursor: pointer;display: block;width: 100%;margin-bottom: 0;padding: 0.3em;box-sizing: border-box;text-align: center;}#sk-container-id-3 label.sk-toggleable__label-arrow:before {content: \"▸\";float: left;margin-right: 0.25em;color: #696969;}#sk-container-id-3 label.sk-toggleable__label-arrow:hover:before {color: black;}#sk-container-id-3 div.sk-estimator:hover label.sk-toggleable__label-arrow:before {color: black;}#sk-container-id-3 div.sk-toggleable__content {max-height: 0;max-width: 0;overflow: hidden;text-align: left;background-color: #f0f8ff;}#sk-container-id-3 div.sk-toggleable__content pre {margin: 0.2em;color: black;border-radius: 0.25em;background-color: #f0f8ff;}#sk-container-id-3 input.sk-toggleable__control:checked~div.sk-toggleable__content {max-height: 200px;max-width: 100%;overflow: auto;}#sk-container-id-3 input.sk-toggleable__control:checked~label.sk-toggleable__label-arrow:before {content: \"▾\";}#sk-container-id-3 div.sk-estimator input.sk-toggleable__control:checked~label.sk-toggleable__label {background-color: #d4ebff;}#sk-container-id-3 div.sk-label input.sk-toggleable__control:checked~label.sk-toggleable__label {background-color: #d4ebff;}#sk-container-id-3 input.sk-hidden--visually {border: 0;clip: rect(1px 1px 1px 1px);clip: rect(1px, 1px, 1px, 1px);height: 1px;margin: -1px;overflow: hidden;padding: 0;position: absolute;width: 1px;}#sk-container-id-3 div.sk-estimator {font-family: monospace;background-color: #f0f8ff;border: 1px dotted black;border-radius: 0.25em;box-sizing: border-box;margin-bottom: 0.5em;}#sk-container-id-3 div.sk-estimator:hover {background-color: #d4ebff;}#sk-container-id-3 div.sk-parallel-item::after {content: \"\";width: 100%;border-bottom: 1px solid gray;flex-grow: 1;}#sk-container-id-3 div.sk-label:hover label.sk-toggleable__label {background-color: #d4ebff;}#sk-container-id-3 div.sk-serial::before {content: \"\";position: absolute;border-left: 1px solid gray;box-sizing: border-box;top: 0;bottom: 0;left: 50%;z-index: 0;}#sk-container-id-3 div.sk-serial {display: flex;flex-direction: column;align-items: center;background-color: white;padding-right: 0.2em;padding-left: 0.2em;position: relative;}#sk-container-id-3 div.sk-item {position: relative;z-index: 1;}#sk-container-id-3 div.sk-parallel {display: flex;align-items: stretch;justify-content: center;background-color: white;position: relative;}#sk-container-id-3 div.sk-item::before, #sk-container-id-3 div.sk-parallel-item::before {content: \"\";position: absolute;border-left: 1px solid gray;box-sizing: border-box;top: 0;bottom: 0;left: 50%;z-index: -1;}#sk-container-id-3 div.sk-parallel-item {display: flex;flex-direction: column;z-index: 1;position: relative;background-color: white;}#sk-container-id-3 div.sk-parallel-item:first-child::after {align-self: flex-end;width: 50%;}#sk-container-id-3 div.sk-parallel-item:last-child::after {align-self: flex-start;width: 50%;}#sk-container-id-3 div.sk-parallel-item:only-child::after {width: 0;}#sk-container-id-3 div.sk-dashed-wrapped {border: 1px dashed gray;margin: 0 0.4em 0.5em 0.4em;box-sizing: border-box;padding-bottom: 0.4em;background-color: white;}#sk-container-id-3 div.sk-label label {font-family: monospace;font-weight: bold;display: inline-block;line-height: 1.2em;}#sk-container-id-3 div.sk-label-container {text-align: center;}#sk-container-id-3 div.sk-container {/* jupyter's `normalize.less` sets `[hidden] { display: none; }` but bootstrap.min.css set `[hidden] { display: none !important; }` so we also need the `!important` here to be able to override the default hidden behavior on the sphinx rendered scikit-learn.org. See: https://github.com/scikit-learn/scikit-learn/issues/21755 */display: inline-block !important;position: relative;}#sk-container-id-3 div.sk-text-repr-fallback {display: none;}</style><div id=\"sk-container-id-3\" class=\"sk-top-container\"><div class=\"sk-text-repr-fallback\"><pre>GridSearchCV(cv=3, estimator=LogisticRegression(), n_jobs=-1,\n",
              "             param_grid={&#x27;C&#x27;: array([1.e-03, 1.e-02, 1.e-01, 1.e+00, 1.e+01, 1.e+02, 1.e+03]),\n",
              "                         &#x27;penalty&#x27;: [&#x27;l1&#x27;, &#x27;l2&#x27;],\n",
              "                         &#x27;solver&#x27;: [&#x27;lbfgs&#x27;, &#x27;liblinear&#x27;]},\n",
              "             scoring=&#x27;f1&#x27;, verbose=3)</pre><b>In a Jupyter environment, please rerun this cell to show the HTML representation or trust the notebook. <br />On GitHub, the HTML representation is unable to render, please try loading this page with nbviewer.org.</b></div><div class=\"sk-container\" hidden><div class=\"sk-item sk-dashed-wrapped\"><div class=\"sk-label-container\"><div class=\"sk-label sk-toggleable\"><input class=\"sk-toggleable__control sk-hidden--visually\" id=\"sk-estimator-id-7\" type=\"checkbox\" ><label for=\"sk-estimator-id-7\" class=\"sk-toggleable__label sk-toggleable__label-arrow\">GridSearchCV</label><div class=\"sk-toggleable__content\"><pre>GridSearchCV(cv=3, estimator=LogisticRegression(), n_jobs=-1,\n",
              "             param_grid={&#x27;C&#x27;: array([1.e-03, 1.e-02, 1.e-01, 1.e+00, 1.e+01, 1.e+02, 1.e+03]),\n",
              "                         &#x27;penalty&#x27;: [&#x27;l1&#x27;, &#x27;l2&#x27;],\n",
              "                         &#x27;solver&#x27;: [&#x27;lbfgs&#x27;, &#x27;liblinear&#x27;]},\n",
              "             scoring=&#x27;f1&#x27;, verbose=3)</pre></div></div></div><div class=\"sk-parallel\"><div class=\"sk-parallel-item\"><div class=\"sk-item\"><div class=\"sk-label-container\"><div class=\"sk-label sk-toggleable\"><input class=\"sk-toggleable__control sk-hidden--visually\" id=\"sk-estimator-id-8\" type=\"checkbox\" ><label for=\"sk-estimator-id-8\" class=\"sk-toggleable__label sk-toggleable__label-arrow\">estimator: LogisticRegression</label><div class=\"sk-toggleable__content\"><pre>LogisticRegression()</pre></div></div></div><div class=\"sk-serial\"><div class=\"sk-item\"><div class=\"sk-estimator sk-toggleable\"><input class=\"sk-toggleable__control sk-hidden--visually\" id=\"sk-estimator-id-9\" type=\"checkbox\" ><label for=\"sk-estimator-id-9\" class=\"sk-toggleable__label sk-toggleable__label-arrow\">LogisticRegression</label><div class=\"sk-toggleable__content\"><pre>LogisticRegression()</pre></div></div></div></div></div></div></div></div></div></div>"
            ]
          },
          "metadata": {},
          "execution_count": 36
        }
      ]
    },
    {
      "cell_type": "code",
      "source": [
        "gs_lr.best_params_"
      ],
      "metadata": {
        "colab": {
          "base_uri": "https://localhost:8080/"
        },
        "id": "EuSU9xUe9pUl",
        "outputId": "26cb6bc4-332f-49e8-a887-bc0d12cb5293"
      },
      "execution_count": 37,
      "outputs": [
        {
          "output_type": "execute_result",
          "data": {
            "text/plain": [
              "{'C': 10.0, 'penalty': 'l1', 'solver': 'liblinear'}"
            ]
          },
          "metadata": {},
          "execution_count": 37
        }
      ]
    },
    {
      "cell_type": "code",
      "source": [
        "lr_best = LogisticRegression(C=10.0, penalty='l1', solver='liblinear')\n",
        "\n",
        "lr_best.fit(X_train_scaled, y_train)\n",
        "\n",
        "y_pred_lr_best = lr_best.predict(X_test_scaled)"
      ],
      "metadata": {
        "colab": {
          "base_uri": "https://localhost:8080/"
        },
        "id": "bEkPjGo4BbUM",
        "outputId": "285eace1-915e-4d18-ed66-32eaa3bb28a8"
      },
      "execution_count": 38,
      "outputs": [
        {
          "output_type": "stream",
          "name": "stderr",
          "text": [
            "/usr/local/lib/python3.10/dist-packages/sklearn/utils/validation.py:1183: DataConversionWarning: A column-vector y was passed when a 1d array was expected. Please change the shape of y to (n_samples, ), for example using ravel().\n",
            "  y = column_or_1d(y, warn=True)\n"
          ]
        }
      ]
    },
    {
      "cell_type": "code",
      "source": [
        "confusion_matrix(y_test, y_pred_lr_best)"
      ],
      "metadata": {
        "colab": {
          "base_uri": "https://localhost:8080/"
        },
        "id": "GOGdCMIaBwsI",
        "outputId": "1903bbe5-8945-4bb2-8e2e-c33e7d22f642"
      },
      "execution_count": 39,
      "outputs": [
        {
          "output_type": "execute_result",
          "data": {
            "text/plain": [
              "array([[99, 45],\n",
              "       [46, 78]])"
            ]
          },
          "metadata": {},
          "execution_count": 39
        }
      ]
    },
    {
      "cell_type": "code",
      "source": [
        "accuracy_score(y_test, y_pred_lr_best)"
      ],
      "metadata": {
        "colab": {
          "base_uri": "https://localhost:8080/"
        },
        "id": "4O-3ceB8Bwvn",
        "outputId": "ae1d7e12-4562-4d83-8a48-05d1493ca4fb"
      },
      "execution_count": 40,
      "outputs": [
        {
          "output_type": "execute_result",
          "data": {
            "text/plain": [
              "0.6604477611940298"
            ]
          },
          "metadata": {},
          "execution_count": 40
        }
      ]
    },
    {
      "cell_type": "code",
      "source": [
        "f1_score(y_test, y_pred_lr_best)"
      ],
      "metadata": {
        "colab": {
          "base_uri": "https://localhost:8080/"
        },
        "id": "Gw3eENxcBwyd",
        "outputId": "55f6c19f-2c9d-4bdd-e99a-2a3565eddb8f"
      },
      "execution_count": 41,
      "outputs": [
        {
          "output_type": "execute_result",
          "data": {
            "text/plain": [
              "0.6315789473684211"
            ]
          },
          "metadata": {},
          "execution_count": 41
        }
      ]
    },
    {
      "cell_type": "markdown",
      "source": [
        "## После подбора гиперпараметров наилучшей оказалась модел KNN"
      ],
      "metadata": {
        "id": "DFmc0Q0MC4WW"
      }
    },
    {
      "cell_type": "markdown",
      "source": [
        "# 5. Полная модель с категориальными признаками и гиперпараметрами"
      ],
      "metadata": {
        "id": "8P6NpNwfEt0-"
      }
    },
    {
      "cell_type": "code",
      "source": [
        "X = df.drop('charges',axis=1)\n",
        "\n",
        "X_train, X_test, y_train, y_test = train_test_split(X, y_class, test_size=0.2, random_state=52)"
      ],
      "metadata": {
        "collapsed": true,
        "id": "0oyHCFJ3GxPn"
      },
      "execution_count": 42,
      "outputs": []
    },
    {
      "cell_type": "code",
      "source": [
        "categorical = ['sex', 'smoker', 'region']\n",
        "numeric_features = ['age','bmi','children']\n",
        "\n",
        "ct = ColumnTransformer([\n",
        "    ('ohe', OneHotEncoder(handle_unknown=\"ignore\"), categorical),\n",
        "    ('scaling', MinMaxScaler(), numeric_features)\n",
        "])\n",
        "\n",
        "pipe = Pipeline([\n",
        "    ('transformer', ct),\n",
        "    ('model', KNeighborsClassifier())\n",
        "    ])\n",
        "\n",
        "\n",
        "params = {'model__n_neighbors' : np.arange(1, 31),\n",
        "          'model__weights' : ['uniform', 'distance'],\n",
        "          'model__p' : [1, 2]}\n",
        "\n",
        "gs = GridSearchCV(pipe, params, scoring='f1', cv=3, n_jobs=-1, verbose=2)\n",
        "gs.fit(X_train, y_train)"
      ],
      "metadata": {
        "colab": {
          "base_uri": "https://localhost:8080/",
          "height": 269
        },
        "id": "N3a8_z4PGA1I",
        "outputId": "250b8c38-6d07-42bb-afee-c77f7fccc373"
      },
      "execution_count": 43,
      "outputs": [
        {
          "output_type": "stream",
          "name": "stdout",
          "text": [
            "Fitting 3 folds for each of 120 candidates, totalling 360 fits\n"
          ]
        },
        {
          "output_type": "stream",
          "name": "stderr",
          "text": [
            "/usr/local/lib/python3.10/dist-packages/sklearn/neighbors/_classification.py:233: DataConversionWarning: A column-vector y was passed when a 1d array was expected. Please change the shape of y to (n_samples,), for example using ravel().\n",
            "  return self._fit(X, y)\n"
          ]
        },
        {
          "output_type": "execute_result",
          "data": {
            "text/plain": [
              "GridSearchCV(cv=3,\n",
              "             estimator=Pipeline(steps=[('transformer',\n",
              "                                        ColumnTransformer(transformers=[('ohe',\n",
              "                                                                         OneHotEncoder(handle_unknown='ignore'),\n",
              "                                                                         ['sex',\n",
              "                                                                          'smoker',\n",
              "                                                                          'region']),\n",
              "                                                                        ('scaling',\n",
              "                                                                         MinMaxScaler(),\n",
              "                                                                         ['age',\n",
              "                                                                          'bmi',\n",
              "                                                                          'children'])])),\n",
              "                                       ('model', KNeighborsClassifier())]),\n",
              "             n_jobs=-1,\n",
              "             param_grid={'model__n_neighbors': array([ 1,  2,  3,  4,  5,  6,  7,  8,  9, 10, 11, 12, 13, 14, 15, 16, 17,\n",
              "       18, 19, 20, 21, 22, 23, 24, 25, 26, 27, 28, 29, 30]),\n",
              "                         'model__p': [1, 2],\n",
              "                         'model__weights': ['uniform', 'distance']},\n",
              "             scoring='f1', verbose=2)"
            ],
            "text/html": [
              "<style>#sk-container-id-4 {color: black;}#sk-container-id-4 pre{padding: 0;}#sk-container-id-4 div.sk-toggleable {background-color: white;}#sk-container-id-4 label.sk-toggleable__label {cursor: pointer;display: block;width: 100%;margin-bottom: 0;padding: 0.3em;box-sizing: border-box;text-align: center;}#sk-container-id-4 label.sk-toggleable__label-arrow:before {content: \"▸\";float: left;margin-right: 0.25em;color: #696969;}#sk-container-id-4 label.sk-toggleable__label-arrow:hover:before {color: black;}#sk-container-id-4 div.sk-estimator:hover label.sk-toggleable__label-arrow:before {color: black;}#sk-container-id-4 div.sk-toggleable__content {max-height: 0;max-width: 0;overflow: hidden;text-align: left;background-color: #f0f8ff;}#sk-container-id-4 div.sk-toggleable__content pre {margin: 0.2em;color: black;border-radius: 0.25em;background-color: #f0f8ff;}#sk-container-id-4 input.sk-toggleable__control:checked~div.sk-toggleable__content {max-height: 200px;max-width: 100%;overflow: auto;}#sk-container-id-4 input.sk-toggleable__control:checked~label.sk-toggleable__label-arrow:before {content: \"▾\";}#sk-container-id-4 div.sk-estimator input.sk-toggleable__control:checked~label.sk-toggleable__label {background-color: #d4ebff;}#sk-container-id-4 div.sk-label input.sk-toggleable__control:checked~label.sk-toggleable__label {background-color: #d4ebff;}#sk-container-id-4 input.sk-hidden--visually {border: 0;clip: rect(1px 1px 1px 1px);clip: rect(1px, 1px, 1px, 1px);height: 1px;margin: -1px;overflow: hidden;padding: 0;position: absolute;width: 1px;}#sk-container-id-4 div.sk-estimator {font-family: monospace;background-color: #f0f8ff;border: 1px dotted black;border-radius: 0.25em;box-sizing: border-box;margin-bottom: 0.5em;}#sk-container-id-4 div.sk-estimator:hover {background-color: #d4ebff;}#sk-container-id-4 div.sk-parallel-item::after {content: \"\";width: 100%;border-bottom: 1px solid gray;flex-grow: 1;}#sk-container-id-4 div.sk-label:hover label.sk-toggleable__label {background-color: #d4ebff;}#sk-container-id-4 div.sk-serial::before {content: \"\";position: absolute;border-left: 1px solid gray;box-sizing: border-box;top: 0;bottom: 0;left: 50%;z-index: 0;}#sk-container-id-4 div.sk-serial {display: flex;flex-direction: column;align-items: center;background-color: white;padding-right: 0.2em;padding-left: 0.2em;position: relative;}#sk-container-id-4 div.sk-item {position: relative;z-index: 1;}#sk-container-id-4 div.sk-parallel {display: flex;align-items: stretch;justify-content: center;background-color: white;position: relative;}#sk-container-id-4 div.sk-item::before, #sk-container-id-4 div.sk-parallel-item::before {content: \"\";position: absolute;border-left: 1px solid gray;box-sizing: border-box;top: 0;bottom: 0;left: 50%;z-index: -1;}#sk-container-id-4 div.sk-parallel-item {display: flex;flex-direction: column;z-index: 1;position: relative;background-color: white;}#sk-container-id-4 div.sk-parallel-item:first-child::after {align-self: flex-end;width: 50%;}#sk-container-id-4 div.sk-parallel-item:last-child::after {align-self: flex-start;width: 50%;}#sk-container-id-4 div.sk-parallel-item:only-child::after {width: 0;}#sk-container-id-4 div.sk-dashed-wrapped {border: 1px dashed gray;margin: 0 0.4em 0.5em 0.4em;box-sizing: border-box;padding-bottom: 0.4em;background-color: white;}#sk-container-id-4 div.sk-label label {font-family: monospace;font-weight: bold;display: inline-block;line-height: 1.2em;}#sk-container-id-4 div.sk-label-container {text-align: center;}#sk-container-id-4 div.sk-container {/* jupyter's `normalize.less` sets `[hidden] { display: none; }` but bootstrap.min.css set `[hidden] { display: none !important; }` so we also need the `!important` here to be able to override the default hidden behavior on the sphinx rendered scikit-learn.org. See: https://github.com/scikit-learn/scikit-learn/issues/21755 */display: inline-block !important;position: relative;}#sk-container-id-4 div.sk-text-repr-fallback {display: none;}</style><div id=\"sk-container-id-4\" class=\"sk-top-container\"><div class=\"sk-text-repr-fallback\"><pre>GridSearchCV(cv=3,\n",
              "             estimator=Pipeline(steps=[(&#x27;transformer&#x27;,\n",
              "                                        ColumnTransformer(transformers=[(&#x27;ohe&#x27;,\n",
              "                                                                         OneHotEncoder(handle_unknown=&#x27;ignore&#x27;),\n",
              "                                                                         [&#x27;sex&#x27;,\n",
              "                                                                          &#x27;smoker&#x27;,\n",
              "                                                                          &#x27;region&#x27;]),\n",
              "                                                                        (&#x27;scaling&#x27;,\n",
              "                                                                         MinMaxScaler(),\n",
              "                                                                         [&#x27;age&#x27;,\n",
              "                                                                          &#x27;bmi&#x27;,\n",
              "                                                                          &#x27;children&#x27;])])),\n",
              "                                       (&#x27;model&#x27;, KNeighborsClassifier())]),\n",
              "             n_jobs=-1,\n",
              "             param_grid={&#x27;model__n_neighbors&#x27;: array([ 1,  2,  3,  4,  5,  6,  7,  8,  9, 10, 11, 12, 13, 14, 15, 16, 17,\n",
              "       18, 19, 20, 21, 22, 23, 24, 25, 26, 27, 28, 29, 30]),\n",
              "                         &#x27;model__p&#x27;: [1, 2],\n",
              "                         &#x27;model__weights&#x27;: [&#x27;uniform&#x27;, &#x27;distance&#x27;]},\n",
              "             scoring=&#x27;f1&#x27;, verbose=2)</pre><b>In a Jupyter environment, please rerun this cell to show the HTML representation or trust the notebook. <br />On GitHub, the HTML representation is unable to render, please try loading this page with nbviewer.org.</b></div><div class=\"sk-container\" hidden><div class=\"sk-item sk-dashed-wrapped\"><div class=\"sk-label-container\"><div class=\"sk-label sk-toggleable\"><input class=\"sk-toggleable__control sk-hidden--visually\" id=\"sk-estimator-id-10\" type=\"checkbox\" ><label for=\"sk-estimator-id-10\" class=\"sk-toggleable__label sk-toggleable__label-arrow\">GridSearchCV</label><div class=\"sk-toggleable__content\"><pre>GridSearchCV(cv=3,\n",
              "             estimator=Pipeline(steps=[(&#x27;transformer&#x27;,\n",
              "                                        ColumnTransformer(transformers=[(&#x27;ohe&#x27;,\n",
              "                                                                         OneHotEncoder(handle_unknown=&#x27;ignore&#x27;),\n",
              "                                                                         [&#x27;sex&#x27;,\n",
              "                                                                          &#x27;smoker&#x27;,\n",
              "                                                                          &#x27;region&#x27;]),\n",
              "                                                                        (&#x27;scaling&#x27;,\n",
              "                                                                         MinMaxScaler(),\n",
              "                                                                         [&#x27;age&#x27;,\n",
              "                                                                          &#x27;bmi&#x27;,\n",
              "                                                                          &#x27;children&#x27;])])),\n",
              "                                       (&#x27;model&#x27;, KNeighborsClassifier())]),\n",
              "             n_jobs=-1,\n",
              "             param_grid={&#x27;model__n_neighbors&#x27;: array([ 1,  2,  3,  4,  5,  6,  7,  8,  9, 10, 11, 12, 13, 14, 15, 16, 17,\n",
              "       18, 19, 20, 21, 22, 23, 24, 25, 26, 27, 28, 29, 30]),\n",
              "                         &#x27;model__p&#x27;: [1, 2],\n",
              "                         &#x27;model__weights&#x27;: [&#x27;uniform&#x27;, &#x27;distance&#x27;]},\n",
              "             scoring=&#x27;f1&#x27;, verbose=2)</pre></div></div></div><div class=\"sk-parallel\"><div class=\"sk-parallel-item\"><div class=\"sk-item\"><div class=\"sk-label-container\"><div class=\"sk-label sk-toggleable\"><input class=\"sk-toggleable__control sk-hidden--visually\" id=\"sk-estimator-id-11\" type=\"checkbox\" ><label for=\"sk-estimator-id-11\" class=\"sk-toggleable__label sk-toggleable__label-arrow\">estimator: Pipeline</label><div class=\"sk-toggleable__content\"><pre>Pipeline(steps=[(&#x27;transformer&#x27;,\n",
              "                 ColumnTransformer(transformers=[(&#x27;ohe&#x27;,\n",
              "                                                  OneHotEncoder(handle_unknown=&#x27;ignore&#x27;),\n",
              "                                                  [&#x27;sex&#x27;, &#x27;smoker&#x27;, &#x27;region&#x27;]),\n",
              "                                                 (&#x27;scaling&#x27;, MinMaxScaler(),\n",
              "                                                  [&#x27;age&#x27;, &#x27;bmi&#x27;,\n",
              "                                                   &#x27;children&#x27;])])),\n",
              "                (&#x27;model&#x27;, KNeighborsClassifier())])</pre></div></div></div><div class=\"sk-serial\"><div class=\"sk-item\"><div class=\"sk-serial\"><div class=\"sk-item sk-dashed-wrapped\"><div class=\"sk-label-container\"><div class=\"sk-label sk-toggleable\"><input class=\"sk-toggleable__control sk-hidden--visually\" id=\"sk-estimator-id-12\" type=\"checkbox\" ><label for=\"sk-estimator-id-12\" class=\"sk-toggleable__label sk-toggleable__label-arrow\">transformer: ColumnTransformer</label><div class=\"sk-toggleable__content\"><pre>ColumnTransformer(transformers=[(&#x27;ohe&#x27;, OneHotEncoder(handle_unknown=&#x27;ignore&#x27;),\n",
              "                                 [&#x27;sex&#x27;, &#x27;smoker&#x27;, &#x27;region&#x27;]),\n",
              "                                (&#x27;scaling&#x27;, MinMaxScaler(),\n",
              "                                 [&#x27;age&#x27;, &#x27;bmi&#x27;, &#x27;children&#x27;])])</pre></div></div></div><div class=\"sk-parallel\"><div class=\"sk-parallel-item\"><div class=\"sk-item\"><div class=\"sk-label-container\"><div class=\"sk-label sk-toggleable\"><input class=\"sk-toggleable__control sk-hidden--visually\" id=\"sk-estimator-id-13\" type=\"checkbox\" ><label for=\"sk-estimator-id-13\" class=\"sk-toggleable__label sk-toggleable__label-arrow\">ohe</label><div class=\"sk-toggleable__content\"><pre>[&#x27;sex&#x27;, &#x27;smoker&#x27;, &#x27;region&#x27;]</pre></div></div></div><div class=\"sk-serial\"><div class=\"sk-item\"><div class=\"sk-estimator sk-toggleable\"><input class=\"sk-toggleable__control sk-hidden--visually\" id=\"sk-estimator-id-14\" type=\"checkbox\" ><label for=\"sk-estimator-id-14\" class=\"sk-toggleable__label sk-toggleable__label-arrow\">OneHotEncoder</label><div class=\"sk-toggleable__content\"><pre>OneHotEncoder(handle_unknown=&#x27;ignore&#x27;)</pre></div></div></div></div></div></div><div class=\"sk-parallel-item\"><div class=\"sk-item\"><div class=\"sk-label-container\"><div class=\"sk-label sk-toggleable\"><input class=\"sk-toggleable__control sk-hidden--visually\" id=\"sk-estimator-id-15\" type=\"checkbox\" ><label for=\"sk-estimator-id-15\" class=\"sk-toggleable__label sk-toggleable__label-arrow\">scaling</label><div class=\"sk-toggleable__content\"><pre>[&#x27;age&#x27;, &#x27;bmi&#x27;, &#x27;children&#x27;]</pre></div></div></div><div class=\"sk-serial\"><div class=\"sk-item\"><div class=\"sk-estimator sk-toggleable\"><input class=\"sk-toggleable__control sk-hidden--visually\" id=\"sk-estimator-id-16\" type=\"checkbox\" ><label for=\"sk-estimator-id-16\" class=\"sk-toggleable__label sk-toggleable__label-arrow\">MinMaxScaler</label><div class=\"sk-toggleable__content\"><pre>MinMaxScaler()</pre></div></div></div></div></div></div></div></div><div class=\"sk-item\"><div class=\"sk-estimator sk-toggleable\"><input class=\"sk-toggleable__control sk-hidden--visually\" id=\"sk-estimator-id-17\" type=\"checkbox\" ><label for=\"sk-estimator-id-17\" class=\"sk-toggleable__label sk-toggleable__label-arrow\">KNeighborsClassifier</label><div class=\"sk-toggleable__content\"><pre>KNeighborsClassifier()</pre></div></div></div></div></div></div></div></div></div></div></div></div>"
            ]
          },
          "metadata": {},
          "execution_count": 43
        }
      ]
    },
    {
      "cell_type": "code",
      "source": [
        "gs.best_params_"
      ],
      "metadata": {
        "colab": {
          "base_uri": "https://localhost:8080/"
        },
        "id": "oLEO6_i6Ir8I",
        "outputId": "eb173ca5-dd2b-4edb-e6ee-8e7b819715be"
      },
      "execution_count": 44,
      "outputs": [
        {
          "output_type": "execute_result",
          "data": {
            "text/plain": [
              "{'model__n_neighbors': 7, 'model__p': 1, 'model__weights': 'distance'}"
            ]
          },
          "metadata": {},
          "execution_count": 44
        }
      ]
    },
    {
      "cell_type": "code",
      "source": [
        "pipe_best = Pipeline([\n",
        "    ('transformer', ct),\n",
        "    ('model', KNeighborsClassifier(n_neighbors=7, p=1, weights='distance'))\n",
        "    ])\n",
        "pipe_best.fit(X_train, y_train)\n",
        "\n",
        "pred_pipe = pipe_best.predict(X_test)"
      ],
      "metadata": {
        "colab": {
          "base_uri": "https://localhost:8080/"
        },
        "id": "qw9ZfrzlJXF9",
        "outputId": "e8d6445b-9a43-42ec-ff91-d7b4c846838a"
      },
      "execution_count": 45,
      "outputs": [
        {
          "output_type": "stream",
          "name": "stderr",
          "text": [
            "/usr/local/lib/python3.10/dist-packages/sklearn/neighbors/_classification.py:233: DataConversionWarning: A column-vector y was passed when a 1d array was expected. Please change the shape of y to (n_samples,), for example using ravel().\n",
            "  return self._fit(X, y)\n"
          ]
        }
      ]
    },
    {
      "cell_type": "code",
      "source": [
        "accuracy_score(y_test, pred_pipe)"
      ],
      "metadata": {
        "colab": {
          "base_uri": "https://localhost:8080/"
        },
        "id": "BtXnfGXWJtB3",
        "outputId": "a5dbc526-949a-4274-f6a1-841353d16c33"
      },
      "execution_count": 46,
      "outputs": [
        {
          "output_type": "execute_result",
          "data": {
            "text/plain": [
              "0.8880597014925373"
            ]
          },
          "metadata": {},
          "execution_count": 46
        }
      ]
    },
    {
      "cell_type": "code",
      "source": [
        "f1_score(y_test, pred_pipe)"
      ],
      "metadata": {
        "colab": {
          "base_uri": "https://localhost:8080/"
        },
        "id": "Zt8Sdq2vKNLJ",
        "outputId": "086d717f-83c7-423f-b4fb-a68288eef6c5"
      },
      "execution_count": 47,
      "outputs": [
        {
          "output_type": "execute_result",
          "data": {
            "text/plain": [
              "0.8695652173913043"
            ]
          },
          "metadata": {},
          "execution_count": 47
        }
      ]
    },
    {
      "cell_type": "markdown",
      "source": [
        "## После построения полной модели метрики сильно улучшились, что говорит о качестве модели"
      ],
      "metadata": {
        "id": "92pRAuF1KRSS"
      }
    },
    {
      "cell_type": "markdown",
      "source": [
        "# 6. Explainer Dashboard"
      ],
      "metadata": {
        "id": "MlYIehDgK5xS"
      }
    },
    {
      "cell_type": "code",
      "source": [
        "!pip install explainerdashboard -q"
      ],
      "metadata": {
        "id": "6Ga0-rObK--Y",
        "colab": {
          "base_uri": "https://localhost:8080/"
        },
        "outputId": "473904ee-bd01-4de8-c3a1-293938dd4757"
      },
      "execution_count": 48,
      "outputs": [
        {
          "output_type": "stream",
          "name": "stdout",
          "text": [
            "\u001b[2K   \u001b[90m━━━━━━━━━━━━━━━━━━━━━━━━━━━━━━━━━━━━━━━━\u001b[0m \u001b[32m287.8/287.8 kB\u001b[0m \u001b[31m3.1 MB/s\u001b[0m eta \u001b[36m0:00:00\u001b[0m\n",
            "\u001b[2K   \u001b[90m━━━━━━━━━━━━━━━━━━━━━━━━━━━━━━━━━━━━━━━━\u001b[0m \u001b[32m7.5/7.5 MB\u001b[0m \u001b[31m37.5 MB/s\u001b[0m eta \u001b[36m0:00:00\u001b[0m\n",
            "\u001b[2K   \u001b[90m━━━━━━━━━━━━━━━━━━━━━━━━━━━━━━━━━━━━━━━━\u001b[0m \u001b[32m222.5/222.5 kB\u001b[0m \u001b[31m12.6 MB/s\u001b[0m eta \u001b[36m0:00:00\u001b[0m\n",
            "\u001b[2K   \u001b[90m━━━━━━━━━━━━━━━━━━━━━━━━━━━━━━━━━━━━━━━━\u001b[0m \u001b[32m91.8/91.8 kB\u001b[0m \u001b[31m5.9 MB/s\u001b[0m eta \u001b[36m0:00:00\u001b[0m\n",
            "\u001b[2K   \u001b[90m━━━━━━━━━━━━━━━━━━━━━━━━━━━━━━━━━━━━━━━━\u001b[0m \u001b[32m540.1/540.1 kB\u001b[0m \u001b[31m25.2 MB/s\u001b[0m eta \u001b[36m0:00:00\u001b[0m\n",
            "\u001b[2K   \u001b[90m━━━━━━━━━━━━━━━━━━━━━━━━━━━━━━━━━━━━━━━━\u001b[0m \u001b[32m56.7/56.7 kB\u001b[0m \u001b[31m3.6 MB/s\u001b[0m eta \u001b[36m0:00:00\u001b[0m\n",
            "\u001b[2K   \u001b[90m━━━━━━━━━━━━━━━━━━━━━━━━━━━━━━━━━━━━━━━━\u001b[0m \u001b[32m146.0/146.0 kB\u001b[0m \u001b[31m9.9 MB/s\u001b[0m eta \u001b[36m0:00:00\u001b[0m\n",
            "\u001b[2K   \u001b[90m━━━━━━━━━━━━━━━━━━━━━━━━━━━━━━━━━━━━━━━━\u001b[0m \u001b[32m1.6/1.6 MB\u001b[0m \u001b[31m38.7 MB/s\u001b[0m eta \u001b[36m0:00:00\u001b[0m\n",
            "\u001b[?25h"
          ]
        }
      ]
    },
    {
      "cell_type": "code",
      "source": [
        "from explainerdashboard import ClassifierExplainer, ExplainerDashboard"
      ],
      "metadata": {
        "id": "iUTjuokLK_5a"
      },
      "execution_count": 49,
      "outputs": []
    },
    {
      "cell_type": "code",
      "source": [
        "from IPython.core.interactiveshell import InteractiveShell\n",
        "InteractiveShell.ast_node_interactivity = \"all\""
      ],
      "metadata": {
        "id": "LffRLpqFLA8p"
      },
      "execution_count": 50,
      "outputs": []
    },
    {
      "cell_type": "code",
      "source": [
        "explainer = ClassifierExplainer(gs.best_estimator_, X_test, y_test)"
      ],
      "metadata": {
        "colab": {
          "base_uri": "https://localhost:8080/"
        },
        "id": "jrHnlQzQLCLX",
        "outputId": "a97f2d72-d524-4df8-f7ef-f1befe4efd8a",
        "collapsed": true
      },
      "execution_count": 51,
      "outputs": [
        {
          "output_type": "stream",
          "name": "stdout",
          "text": [
            "splitting pipeline...\n",
            "Detected sklearn/imblearn Pipeline and succesfully extracted final output dataframe with column names and final model...\n",
            "WARNING: Parameter shap='guess', but failed to guess the type of shap explainer to use for KNeighborsClassifier. Defaulting to the model agnostic shap.KernelExplainer (shap='kernel'). However this will be slow, so if your model is compatible with e.g. shap.TreeExplainer or shap.LinearExplainer then pass shap='tree' or shap='linear'!\n",
            "WARNING: For shap='kernel', shap interaction values can unfortunately not be calculated!\n",
            "Note: shap values for shap='kernel' normally get calculated against X_background, but paramater X_background=None, so setting X_background=shap.sample(X, 50)...\n",
            "Generating self.shap_explainer = shap.KernelExplainer(model, X, link='identity')\n"
          ]
        }
      ]
    },
    {
      "cell_type": "code",
      "source": [
        "db = ExplainerDashboard(explainer)"
      ],
      "metadata": {
        "colab": {
          "base_uri": "https://localhost:8080/",
          "height": 1000,
          "referenced_widgets": [
            "7d174d7e82934dba936e2a9147ec8471",
            "521268132be343b7a2ddd9baaa6ee00b",
            "94e26abb6a5e4433b1e6094bea69ef06",
            "6653ee1b1f8e40ff8772b5e8671ed6d3",
            "22839a53a1844b4dbd7aac12b20255ce",
            "4661fec2ece2428fb0a776aa4f3b2157",
            "8080fee5b3974ac3a5f618025d6185d5",
            "b8140eda54544cdeae73e254a1d3812a",
            "bf9420958bd04d8bb11527aac265df9d",
            "3948f7b12ead44d99fd2d4b176fda0a2",
            "b1b9778cebe84c64becc59a64d66bd31"
          ]
        },
        "id": "p5Ja2K3_LDZ3",
        "outputId": "9c1022af-b7a9-40fd-a973-d7b1e05768a8",
        "collapsed": true
      },
      "execution_count": 52,
      "outputs": [
        {
          "output_type": "stream",
          "name": "stdout",
          "text": [
            "Building ExplainerDashboard..\n",
            "Detected google colab environment, setting mode='external'\n",
            "For this type of model and model_output interactions don't work, so setting shap_interaction=False...\n",
            "The explainer object has no decision_trees property. so setting decision_trees=False...\n",
            "Generating layout...\n",
            "Calculating shap values...\n"
          ]
        },
        {
          "output_type": "stream",
          "name": "stderr",
          "text": [
            "/usr/local/lib/python3.10/dist-packages/dash/dash.py:556: UserWarning:\n",
            "\n",
            "JupyterDash is deprecated, use Dash instead.\n",
            "See https://dash.plotly.com/dash-in-jupyter for more details.\n",
            "\n"
          ]
        },
        {
          "output_type": "display_data",
          "data": {
            "text/plain": [
              "  0%|          | 0/268 [00:00<?, ?it/s]"
            ],
            "application/vnd.jupyter.widget-view+json": {
              "version_major": 2,
              "version_minor": 0,
              "model_id": "7d174d7e82934dba936e2a9147ec8471"
            }
          },
          "metadata": {}
        },
        {
          "output_type": "stream",
          "name": "stdout",
          "text": [
            "Calculating prediction probabilities...\n",
            "Calculating metrics...\n",
            "Calculating confusion matrices...\n",
            "Calculating classification_dfs...\n",
            "Calculating roc auc curves...\n",
            "Calculating pr auc curves...\n",
            "Calculating liftcurve_dfs...\n"
          ]
        },
        {
          "output_type": "stream",
          "name": "stderr",
          "text": [
            "/usr/local/lib/python3.10/dist-packages/sklearn/base.py:458: UserWarning:\n",
            "\n",
            "X has feature names, but KNeighborsClassifier was fitted without feature names\n",
            "\n",
            "/usr/local/lib/python3.10/dist-packages/sklearn/base.py:458: UserWarning:\n",
            "\n",
            "X has feature names, but KNeighborsClassifier was fitted without feature names\n",
            "\n",
            "/usr/local/lib/python3.10/dist-packages/sklearn/base.py:458: UserWarning:\n",
            "\n",
            "X has feature names, but KNeighborsClassifier was fitted without feature names\n",
            "\n",
            "/usr/local/lib/python3.10/dist-packages/sklearn/base.py:458: UserWarning:\n",
            "\n",
            "X has feature names, but KNeighborsClassifier was fitted without feature names\n",
            "\n",
            "/usr/local/lib/python3.10/dist-packages/sklearn/base.py:458: UserWarning:\n",
            "\n",
            "X has feature names, but KNeighborsClassifier was fitted without feature names\n",
            "\n",
            "/usr/local/lib/python3.10/dist-packages/sklearn/base.py:458: UserWarning:\n",
            "\n",
            "X has feature names, but KNeighborsClassifier was fitted without feature names\n",
            "\n",
            "/usr/local/lib/python3.10/dist-packages/sklearn/base.py:458: UserWarning:\n",
            "\n",
            "X has feature names, but KNeighborsClassifier was fitted without feature names\n",
            "\n",
            "/usr/local/lib/python3.10/dist-packages/sklearn/base.py:458: UserWarning:\n",
            "\n",
            "X has feature names, but KNeighborsClassifier was fitted without feature names\n",
            "\n",
            "/usr/local/lib/python3.10/dist-packages/sklearn/base.py:458: UserWarning:\n",
            "\n",
            "X has feature names, but KNeighborsClassifier was fitted without feature names\n",
            "\n",
            "/usr/local/lib/python3.10/dist-packages/sklearn/base.py:458: UserWarning:\n",
            "\n",
            "X has feature names, but KNeighborsClassifier was fitted without feature names\n",
            "\n"
          ]
        },
        {
          "output_type": "stream",
          "name": "stdout",
          "text": [
            "Calculating dependencies...\n",
            "Calculating permutation importances (if slow, try setting n_jobs parameter)...\n",
            "Calculating pred_percentiles...\n",
            "Calculating predictions...\n",
            "Reminder: you can store the explainer (including calculated dependencies) with explainer.dump('explainer.joblib') and reload with e.g. ClassifierExplainer.from_file('explainer.joblib')\n",
            "Registering callbacks...\n"
          ]
        },
        {
          "output_type": "stream",
          "name": "stderr",
          "text": [
            "/usr/local/lib/python3.10/dist-packages/sklearn/base.py:458: UserWarning:\n",
            "\n",
            "X has feature names, but KNeighborsClassifier was fitted without feature names\n",
            "\n"
          ]
        }
      ]
    },
    {
      "cell_type": "code",
      "source": [
        "db.run()"
      ],
      "metadata": {
        "colab": {
          "base_uri": "https://localhost:8080/",
          "height": 741
        },
        "id": "-AK6xw2VLEZl",
        "outputId": "9e5232d4-3bec-46ee-dcb1-1652793c5838",
        "collapsed": true
      },
      "execution_count": 53,
      "outputs": [
        {
          "output_type": "stream",
          "name": "stdout",
          "text": [
            "Starting ExplainerDashboard on http://172.28.0.12:8050\n",
            "You can terminate the dashboard with ExplainerDashboard.terminate(8050)\n"
          ]
        },
        {
          "output_type": "display_data",
          "data": {
            "text/plain": [
              "<IPython.core.display.Javascript object>"
            ],
            "application/javascript": [
              "(async (port, path, width, height, cache, element) => {\n",
              "    if (!google.colab.kernel.accessAllowed && !cache) {\n",
              "      return;\n",
              "    }\n",
              "    element.appendChild(document.createTextNode(''));\n",
              "    const url = await google.colab.kernel.proxyPort(port, {cache});\n",
              "    const iframe = document.createElement('iframe');\n",
              "    iframe.src = new URL(path, url).toString();\n",
              "    iframe.height = height;\n",
              "    iframe.width = width;\n",
              "    iframe.style.border = 0;\n",
              "    iframe.allow = [\n",
              "        'accelerometer',\n",
              "        'autoplay',\n",
              "        'camera',\n",
              "        'clipboard-read',\n",
              "        'clipboard-write',\n",
              "        'gyroscope',\n",
              "        'magnetometer',\n",
              "        'microphone',\n",
              "        'serial',\n",
              "        'usb',\n",
              "        'xr-spatial-tracking',\n",
              "    ].join('; ');\n",
              "    element.appendChild(iframe);\n",
              "  })(8050, \"/\", \"100%\", 650, false, window.element)"
            ]
          },
          "metadata": {}
        },
        {
          "output_type": "stream",
          "name": "stdout",
          "text": [
            "Dash app running on:\n"
          ]
        },
        {
          "output_type": "display_data",
          "data": {
            "text/plain": [
              "<IPython.core.display.Javascript object>"
            ],
            "application/javascript": [
              "(async (port, path, text, element) => {\n",
              "    if (!google.colab.kernel.accessAllowed) {\n",
              "      return;\n",
              "    }\n",
              "    element.appendChild(document.createTextNode(''));\n",
              "    const url = await google.colab.kernel.proxyPort(port);\n",
              "    const anchor = document.createElement('a');\n",
              "    anchor.href = new URL(path, url).toString();\n",
              "    anchor.target = '_blank';\n",
              "    anchor.setAttribute('data-href', url + path);\n",
              "    anchor.textContent = text;\n",
              "    element.appendChild(anchor);\n",
              "  })(8050, \"/\", \"http://127.0.0.1:8050/\", window.element)"
            ]
          },
          "metadata": {}
        }
      ]
    },
    {
      "cell_type": "markdown",
      "source": [
        "По дешборду можно видеть что наиболее важные признаки это возраст и курение"
      ],
      "metadata": {
        "id": "3vylDPuOGg7T"
      }
    },
    {
      "cell_type": "markdown",
      "source": [
        "## Метрики"
      ],
      "metadata": {
        "id": "wPmxzS5_FSsk"
      }
    },
    {
      "cell_type": "markdown",
      "source": [
        "В среднем метрики получились неплохие, все выше 0.8, что говорит о хорошем качестве построенной модели"
      ],
      "metadata": {
        "id": "i6xYQgjjGLUx"
      }
    },
    {
      "cell_type": "markdown",
      "source": [
        "![image.png](data:image/png;base64,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)"
      ],
      "metadata": {
        "id": "j_TQ8MxMGI7q"
      }
    },
    {
      "cell_type": "markdown",
      "source": [
        "## Индивидуальные прогнозы"
      ],
      "metadata": {
        "id": "OOLqd35jHHOO"
      }
    },
    {
      "cell_type": "markdown",
      "source": [
        "### index 77"
      ],
      "metadata": {
        "id": "4DWNAxXXKP9S"
      }
    },
    {
      "cell_type": "markdown",
      "source": [
        "По нашим данным можно утверждать что 77 индекс на 100% будет принадлежать к классу 0\n",
        "\n",
        "Average of population\t46.0%\n",
        "\n",
        "scaling__age = 0.06521739130434784\t-20.73%\n",
        "\n",
        "ohe__smoker_no = 1.0\t-10.33%\n",
        "\n",
        "ohe__smoker_yes = 0.0\t-10.33%\n",
        "\n",
        "scaling__bmi = 0.5264998654829163\t-4.71%\n",
        "\n",
        "scaling__children = 0.0\t+1.38%\n",
        "\n",
        "ohe__sex_male = 1.0\t-0.71%\n",
        "\n",
        "ohe__sex_female = 0.0\t-0.71%\n",
        "\n",
        "ohe__region_northwest = 0.0\t+0.36%\n",
        "\n",
        "ohe__region_southeast = 1.0\t-0.34%\n",
        "\n",
        "ohe__region_southwest = 0.0\t+0.07%\n",
        "\n",
        "ohe__region_northeast = 0.0\t+0.04%\n",
        "\n",
        "Other features combined\t+0.0%\n",
        "\n",
        "Final prediction\t-0.0%"
      ],
      "metadata": {
        "id": "W4HkSp5uKxFI"
      }
    },
    {
      "cell_type": "markdown",
      "source": [
        "### index 1136"
      ],
      "metadata": {
        "id": "ynHLoVgCPPTs"
      }
    },
    {
      "cell_type": "markdown",
      "source": [
        "По нашим данным можно утверждать, что 76.8% на то что объект принадлежит к классу 0, а 23.2% на то что принадлежит к классу 1\n",
        "\n",
        "\n",
        "Average of population\t46.0%\n",
        "\n",
        "scaling__age = 0.5652173913043479\t-12.85%\n",
        "\n",
        "ohe__smoker_no = 1.0\t-9.99%\n",
        "\n",
        "ohe__smoker_yes = 0.0\t-9.99%\n",
        "\n",
        "scaling__bmi = 0.24320688727468387\t+5.31%\n",
        "\n",
        "ohe__sex_female = 1.0\t+2.49%\n",
        "\n",
        "ohe__sex_male = 0.0\t+2.49%\n",
        "\n",
        "scaling__children = 0.2\t+1.97%\n",
        "\n",
        "ohe__region_southwest = 1.0\t-1.94%\n",
        "\n",
        "ohe__region_northwest = 0.0\t-0.58%\n",
        "\n",
        "ohe__region_southeast = 0.0\t+0.4%\n",
        "\n",
        "ohe__region_northeast = 0.0\t-0.16%\n",
        "\n",
        "Other features combined\t+0.0%\n",
        "\n",
        "Final prediction\t23.15%"
      ],
      "metadata": {
        "id": "cKuyXZxvPTjJ"
      }
    },
    {
      "cell_type": "markdown",
      "source": [
        "### index 747"
      ],
      "metadata": {
        "id": "C5c2FXC7PtTS"
      }
    },
    {
      "cell_type": "markdown",
      "source": [
        "По нашим данным можно утверждать что 747 индекс на 100% будет принадлежать к классу 0\n",
        "\n",
        "Average of population\t46.0%\n",
        "\n",
        "scaling__age = 0.02173913043478265\t-20.13%\n",
        "\n",
        "ohe__smoker_no = 1.0\t-10.94%\n",
        "\n",
        "ohe__smoker_yes = 0.0\t-10.94%\n",
        "\n",
        "scaling__children = 0.0\t-1.46%\n",
        "\n",
        "ohe__sex_male = 1.0\t-0.97%\n",
        "\n",
        "ohe__sex_female = 0.0\t-0.97%\n",
        "\n",
        "scaling__bmi = 0.15590529997309654\t-0.89%\n",
        "\n",
        "ohe__region_southwest = 0.0\t+0.46%\n",
        "\n",
        "ohe__region_northwest = 1.0\t-0.4%\n",
        "\n",
        "ohe__region_southeast = 0.0\t+0.14%\n",
        "\n",
        "ohe__region_northeast = 0.0\t+0.1%\n",
        "\n",
        "Other features combined\t+0.0%\n",
        "\n",
        "Final prediction\t0.0%"
      ],
      "metadata": {
        "id": "trKfjnkePzgP"
      }
    }
  ]
}